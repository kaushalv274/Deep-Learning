{
 "cells": [
  {
   "cell_type": "markdown",
   "metadata": {},
   "source": [
    "# Problem 1: Language Modeling with RNNs\n",
    "* <b>Learning Objective:</b> In this problem, you are going to implement simple recurrent neural networks to deeply understand how RNNs works.\n",
    "* <b>Provided Code:</b> We provide the skeletons of classes you need to complete. Forward checking and gradient checkings are provided for verifying your implementation as well.\n",
    "* <b>TODOs:</b> you will implement a LSTM and use them it to train a model that can generate text using your own text source (novel, lyrics etc). <b>Also please do not forget to answer to the two inline questions before LSTM.</b>"
   ]
  },
  {
   "cell_type": "code",
   "execution_count": 3,
   "metadata": {
    "collapsed": false
   },
   "outputs": [],
   "source": [
    "from lib.rnn import *\n",
    "from lib.layer_utils import *\n",
    "from lib.grad_check import *\n",
    "from lib.optim import *\n",
    "from lib.train import *\n",
    "import numpy as np\n",
    "import matplotlib.pyplot as plt\n",
    "\n",
    "%matplotlib inline\n",
    "plt.rcParams['figure.figsize'] = (10.0, 8.0) # set default size of plots\n",
    "plt.rcParams['image.interpolation'] = 'nearest'\n",
    "plt.rcParams['image.cmap'] = 'gray'\n",
    "\n",
    "# for auto-reloading external modules\n",
    "# see http://stackoverflow.com/questions/1907993/autoreload-of-modules-in-ipython\n",
    "%load_ext autoreload\n",
    "%autoreload 2"
   ]
  },
  {
   "cell_type": "markdown",
   "metadata": {},
   "source": [
    "# Recurrent Neural Networks\n",
    "We will use recurrent neural network (RNN) language models for text generation. The file `lib/layer_utils.py` contains implementations of different layer types that are needed for recurrent neural networks, and the file `lib/rnn.py` uses these layers to implement an text generation model.\n",
    "\n",
    "We will implement LSTM layers in `lib/layer_utils.py`. As a reference, you are given complete codes for other layers including a vanilla RNN. Let's first look through the vanilla RNN, and other layers you may need for language modeling. The first part doesn't involve any coding. You can simply check the codes and run to make sure everything works as you expect."
   ]
  },
  {
   "cell_type": "markdown",
   "metadata": {},
   "source": [
    "# Vanilla RNN: step forward\n",
    "Open the file `lib/layer_utils.py`. This file implements the forward and backward passes for different types of layers that are commonly used in recurrent neural networks.\n",
    "\n",
    "First check the implementation of the function `step_forward` which implements the forward pass for a single timestep of a vanilla recurrent neural network. We provide this function for you. After doing so run the following code. You should see errors less than 1e-8."
   ]
  },
  {
   "cell_type": "code",
   "execution_count": 3,
   "metadata": {
    "collapsed": false
   },
   "outputs": [
    {
     "name": "stdout",
     "output_type": "stream",
     "text": [
      "next_h error:  6.29242142647e-09\n"
     ]
    }
   ],
   "source": [
    "N, D, H = 3, 10, 4\n",
    "\n",
    "rnn = VanillaRNN(D, H, init_scale=0.02, name=\"rnn_test\")\n",
    "x = np.linspace(-0.4, 0.7, num=N*D).reshape(N, D)\n",
    "prev_h = np.linspace(-0.2, 0.5, num=N*H).reshape(N, H)\n",
    "\n",
    "rnn.params[rnn.wx_name] = np.linspace(-0.1, 0.9, num=D*H).reshape(D, H)\n",
    "rnn.params[rnn.wh_name] = np.linspace(-0.3, 0.7, num=H*H).reshape(H, H)\n",
    "rnn.params[rnn.b_name] = np.linspace(-0.2, 0.4, num=H)\n",
    "\n",
    "next_h, _ = rnn.step_forward(x, prev_h)\n",
    "expected_next_h = np.asarray([\n",
    "  [-0.58172089, -0.50182032, -0.41232771, -0.31410098],\n",
    "  [ 0.66854692,  0.79562378,  0.87755553,  0.92795967],\n",
    "  [ 0.97934501,  0.99144213,  0.99646691,  0.99854353]])\n",
    "\n",
    "print('next_h error: ', rel_error(expected_next_h, next_h))"
   ]
  },
  {
   "cell_type": "markdown",
   "metadata": {},
   "source": [
    "# Vanilla RNN: step backward\n",
    "In the `VanillaRNN` class in the file `lib/layer_utils.py` check the `step_backward` function. After doing so run the following to numerically gradient check the implementation. You should see errors less than `1e-8`."
   ]
  },
  {
   "cell_type": "code",
   "execution_count": 4,
   "metadata": {
    "collapsed": false
   },
   "outputs": [
    {
     "name": "stdout",
     "output_type": "stream",
     "text": [
      "dx error:  1.05720381366e-10\n",
      "dprev_h error:  5.79650093437e-10\n",
      "dWx error:  3.85463040281e-10\n",
      "dWh error:  1.58343560409e-10\n",
      "db error:  2.01718247137e-11\n"
     ]
    }
   ],
   "source": [
    "np.random.seed(599)\n",
    "N, D, H = 4, 5, 6\n",
    "\n",
    "rnn = VanillaRNN(D, H, init_scale=0.02, name=\"rnn_test\")\n",
    "\n",
    "x = np.random.randn(N, D)\n",
    "h = np.random.randn(N, H)\n",
    "Wx = np.random.randn(D, H)\n",
    "Wh = np.random.randn(H, H)\n",
    "b = np.random.randn(H)\n",
    "\n",
    "rnn.params[rnn.wx_name] = Wx\n",
    "rnn.params[rnn.wh_name] = Wh\n",
    "rnn.params[rnn.b_name] = b\n",
    "\n",
    "out, meta = rnn.step_forward(x, h)\n",
    "\n",
    "dnext_h = np.random.randn(*out.shape)\n",
    "\n",
    "dx_num = eval_numerical_gradient_array(lambda x: rnn.step_forward(x, h)[0], x, dnext_h)\n",
    "dprev_h_num = eval_numerical_gradient_array(lambda h: rnn.step_forward(x, h)[0], h, dnext_h)\n",
    "dWx_num = eval_numerical_gradient_array(lambda Wx: rnn.step_forward(x, h)[0], Wx, dnext_h)\n",
    "dWh_num = eval_numerical_gradient_array(lambda Wh: rnn.step_forward(x, h)[0], Wh, dnext_h)\n",
    "db_num = eval_numerical_gradient_array(lambda b: rnn.step_forward(x, h)[0], b, dnext_h)\n",
    "\n",
    "dx, dprev_h, dWx, dWh, db = rnn.step_backward(dnext_h, meta)\n",
    "\n",
    "print('dx error: ', rel_error(dx_num, dx))\n",
    "print('dprev_h error: ', rel_error(dprev_h_num, dprev_h))\n",
    "print('dWx error: ', rel_error(dWx_num, dWx))\n",
    "print('dWh error: ', rel_error(dWh_num, dWh))\n",
    "print('db error: ', rel_error(db_num, db))"
   ]
  },
  {
   "cell_type": "markdown",
   "metadata": {},
   "source": [
    "# Vanilla RNN: forward\n",
    "Now that you have checked the forward and backward passes for a single timestep of a vanilla RNN, you will see how they are combined to implement a RNN that process an entire sequence of data.\n",
    "\n",
    "In the `VanillaRNN` class in the file `lib/layer_utils.py`, check the function `forward`. We provide this function for you. This is implemented using the `step_forward` function that you defined above. After doing so run the following to check the implementation. You should see errors less than `1e-7`."
   ]
  },
  {
   "cell_type": "code",
   "execution_count": 5,
   "metadata": {
    "collapsed": false
   },
   "outputs": [
    {
     "name": "stdout",
     "output_type": "stream",
     "text": [
      "h error:  7.72846615831e-08\n"
     ]
    }
   ],
   "source": [
    "N, T, D, H = 2, 3, 4, 5\n",
    "\n",
    "rnn = VanillaRNN(D, H, init_scale=0.02, name=\"rnn_test\")\n",
    "\n",
    "x = np.linspace(-0.1, 0.3, num=N*T*D).reshape(N, T, D)\n",
    "h0 = np.linspace(-0.3, 0.1, num=N*H).reshape(N, H)\n",
    "Wx = np.linspace(-0.2, 0.4, num=D*H).reshape(D, H)\n",
    "Wh = np.linspace(-0.4, 0.1, num=H*H).reshape(H, H)\n",
    "b = np.linspace(-0.7, 0.1, num=H)\n",
    "\n",
    "rnn.params[rnn.wx_name] = Wx\n",
    "rnn.params[rnn.wh_name] = Wh\n",
    "rnn.params[rnn.b_name] = b\n",
    "\n",
    "h = rnn.forward(x, h0)\n",
    "expected_h = np.asarray([\n",
    "  [\n",
    "    [-0.42070749, -0.27279261, -0.11074945,  0.05740409,  0.22236251],\n",
    "    [-0.39525808, -0.22554661, -0.0409454,   0.14649412,  0.32397316],\n",
    "    [-0.42305111, -0.24223728, -0.04287027,  0.15997045,  0.35014525],\n",
    "  ],\n",
    "  [\n",
    "    [-0.55857474, -0.39065825, -0.19198182,  0.02378408,  0.23735671],\n",
    "    [-0.27150199, -0.07088804,  0.13562939,  0.33099728,  0.50158768],\n",
    "    [-0.51014825, -0.30524429, -0.06755202,  0.17806392,  0.40333043]]])\n",
    "print('h error: ', rel_error(expected_h, h))"
   ]
  },
  {
   "cell_type": "markdown",
   "metadata": {},
   "source": [
    "# Vanilla RNN: backward\n",
    "In the file `lib/layer_utils.py`, check the backward pass for a vanilla RNN in the function `backward` in the `VanillaRNN` class. We provide this function for you. This runs back-propagation over the entire sequence, calling into the `step_backward` function defined above. You should see errors less than 5e-7."
   ]
  },
  {
   "cell_type": "code",
   "execution_count": 6,
   "metadata": {
    "collapsed": false
   },
   "outputs": [
    {
     "name": "stdout",
     "output_type": "stream",
     "text": [
      "dx error:  3.11708809916e-10\n",
      "dh0 error:  1.7256625616e-10\n",
      "dWx error:  4.81142047372e-09\n",
      "dWh error:  5.48837659207e-10\n",
      "db error:  2.49942128935e-10\n"
     ]
    }
   ],
   "source": [
    "np.random.seed(599)\n",
    "\n",
    "N, D, T, H = 2, 3, 10, 5\n",
    "\n",
    "rnn = VanillaRNN(D, H, init_scale=0.02, name=\"rnn_test\")\n",
    "\n",
    "x = np.random.randn(N, T, D)\n",
    "h0 = np.random.randn(N, H)\n",
    "Wx = np.random.randn(D, H)\n",
    "Wh = np.random.randn(H, H)\n",
    "b = np.random.randn(H)\n",
    "\n",
    "rnn.params[rnn.wx_name] = Wx\n",
    "rnn.params[rnn.wh_name] = Wh\n",
    "rnn.params[rnn.b_name] = b\n",
    "\n",
    "out = rnn.forward(x, h0)\n",
    "\n",
    "dout = np.random.randn(*out.shape)\n",
    "\n",
    "dx, dh0 = rnn.backward(dout)\n",
    "\n",
    "dx_num = eval_numerical_gradient_array(lambda x: rnn.forward(x, h0), x, dout)\n",
    "dh0_num = eval_numerical_gradient_array(lambda h0: rnn.forward(x, h0), h0, dout)\n",
    "dWx_num = eval_numerical_gradient_array(lambda Wx: rnn.forward(x, h0), Wx, dout)\n",
    "dWh_num = eval_numerical_gradient_array(lambda Wh: rnn.forward(x, h0), Wh, dout)\n",
    "db_num = eval_numerical_gradient_array(lambda b: rnn.forward(x, h0), b, dout)\n",
    "\n",
    "dWx = rnn.grads[rnn.wx_name]\n",
    "dWh = rnn.grads[rnn.wh_name]\n",
    "db = rnn.grads[rnn.b_name]\n",
    "\n",
    "print('dx error: ', rel_error(dx_num, dx))\n",
    "print('dh0 error: ', rel_error(dh0_num, dh0))\n",
    "print('dWx error: ', rel_error(dWx_num, dWx))\n",
    "print('dWh error: ', rel_error(dWh_num, dWh))\n",
    "print('db error: ', rel_error(db_num, db))"
   ]
  },
  {
   "cell_type": "markdown",
   "metadata": {},
   "source": [
    "# Word embedding: forward\n",
    "In deep learning systems, we commonly represent words using vectors. Each word of the vocabulary will be associated with a vector, and these vectors will be learned jointly with the rest of the system.\n",
    "\n",
    "In the file `lib/layer_utils.py`, check the function `forward` in the `word_embedding` class to convert words (represented by integers) into vectors. We provide this function for you. Run the following to check the implementation. You should see error around `1e-8`."
   ]
  },
  {
   "cell_type": "code",
   "execution_count": 7,
   "metadata": {
    "collapsed": false
   },
   "outputs": [
    {
     "name": "stdout",
     "output_type": "stream",
     "text": [
      "out error:  1.00000000947e-08\n"
     ]
    }
   ],
   "source": [
    "N, T, V, D = 2, 4, 5, 3\n",
    "\n",
    "we = word_embedding(V, D, name=\"we\")\n",
    "\n",
    "x = np.asarray([[0, 3, 1, 2], [2, 1, 0, 3]])\n",
    "W = np.linspace(0, 1, num=V*D).reshape(V, D)\n",
    "\n",
    "we.params[we.w_name] = W\n",
    "\n",
    "out = we.forward(x)\n",
    "expected_out = np.asarray([\n",
    " [[ 0.,          0.07142857,  0.14285714],\n",
    "  [ 0.64285714,  0.71428571,  0.78571429],\n",
    "  [ 0.21428571,  0.28571429,  0.35714286],\n",
    "  [ 0.42857143,  0.5,         0.57142857]],\n",
    " [[ 0.42857143,  0.5,         0.57142857],\n",
    "  [ 0.21428571,  0.28571429,  0.35714286],\n",
    "  [ 0.,          0.07142857,  0.14285714],\n",
    "  [ 0.64285714,  0.71428571,  0.78571429]]])\n",
    "\n",
    "print('out error: ', rel_error(expected_out, out))"
   ]
  },
  {
   "cell_type": "markdown",
   "metadata": {},
   "source": [
    "# Word embedding: backward\n",
    "Check the backward pass for the word embedding function in the function `backward` in the `word_embedding` class. We provide this function for you. After doing so run the following to numerically gradient check the implementation. You should see errors less than `1e-11`."
   ]
  },
  {
   "cell_type": "code",
   "execution_count": 8,
   "metadata": {
    "collapsed": false
   },
   "outputs": [
    {
     "name": "stdout",
     "output_type": "stream",
     "text": [
      "dW error:  3.27593252242e-12\n"
     ]
    }
   ],
   "source": [
    "np.random.seed(599)\n",
    "\n",
    "N, T, V, D = 50, 3, 5, 6\n",
    "\n",
    "we = word_embedding(V, D, name=\"we\")\n",
    "\n",
    "x = np.random.randint(V, size=(N, T))\n",
    "W = np.random.randn(V, D)\n",
    "\n",
    "we.params[we.w_name] = W\n",
    "\n",
    "out = we.forward(x)\n",
    "dout = np.random.randn(*out.shape)\n",
    "we.backward(dout)\n",
    "\n",
    "dW = we.grads[we.w_name]\n",
    "\n",
    "f = lambda W: we.forward(x)\n",
    "dW_num = eval_numerical_gradient_array(f, W, dout)\n",
    "\n",
    "print('dW error: ', rel_error(dW, dW_num))"
   ]
  },
  {
   "cell_type": "markdown",
   "metadata": {},
   "source": [
    "### Inline Question: Why do we want to represent words using word embeddings instead of one hot vector ( https://en.wikipedia.org/wiki/One-hot )? Provide one advantage of word embeddings.\n",
    "\n",
    "#### Ans: If we represent word as a one hot vector, dimension of that vector would be equal to number of words in the vocabulary. This is very inefficient. For example, if we have 1 million words in our vocabulary, our one hot vector would be (1,1000000) in dimension. If we represent these words as embeddings, we can do same things in minimal space. (Popular embeddings such as GloVe and word2vec are very good in reducing dimensions). \n",
    "\n",
    "#### word embedding represents word's nature and other characteristics. in NLP, we used dot products of two word embeddings to get word similarity. This would not be possible if we use one hot vector. \n"
   ]
  },
  {
   "cell_type": "markdown",
   "metadata": {},
   "source": [
    "# Temporal Fully Connected layer\n",
    "At every timestep we use an affine function to transform the RNN hidden vector at that timestep into scores for each word in the vocabulary. Because this is very similar to the fully connected layer that you implemented in assignment 1, we have provided this function for you in the `forward` and `backward` functions in the file `lib/layer_util.py`. Run the following to perform numeric gradient checking on the implementation. You should see errors less than 1e-9."
   ]
  },
  {
   "cell_type": "code",
   "execution_count": 9,
   "metadata": {
    "collapsed": false
   },
   "outputs": [
    {
     "name": "stdout",
     "output_type": "stream",
     "text": [
      "dx error:  1.05895628938e-09\n",
      "dw error:  1.16649300155e-10\n",
      "db error:  1.85404883256e-11\n"
     ]
    }
   ],
   "source": [
    "np.random.seed(599)\n",
    "\n",
    "# Gradient check for temporal affine layer\n",
    "N, T, D, M = 2, 3, 4, 5\n",
    "\n",
    "t_fc = temporal_fc(D, M, init_scale=0.02, name='test_t_fc')\n",
    "\n",
    "x = np.random.randn(N, T, D)\n",
    "w = np.random.randn(D, M)\n",
    "b = np.random.randn(M)\n",
    "\n",
    "t_fc.params[t_fc.w_name] = w\n",
    "t_fc.params[t_fc.b_name] = b\n",
    "\n",
    "out = t_fc.forward(x)\n",
    "\n",
    "dout = np.random.randn(*out.shape)\n",
    "\n",
    "dx_num = eval_numerical_gradient_array(lambda x: t_fc.forward(x), x, dout)\n",
    "dw_num = eval_numerical_gradient_array(lambda w: t_fc.forward(x), w, dout)\n",
    "db_num = eval_numerical_gradient_array(lambda b: t_fc.forward(x), b, dout)\n",
    "\n",
    "dx = t_fc.backward(dout)\n",
    "dw = t_fc.grads[t_fc.w_name]\n",
    "db = t_fc.grads[t_fc.b_name]\n",
    "\n",
    "print('dx error: ', rel_error(dx_num, dx))\n",
    "print('dw error: ', rel_error(dw_num, dw))\n",
    "print('db error: ', rel_error(db_num, db))"
   ]
  },
  {
   "cell_type": "markdown",
   "metadata": {},
   "source": [
    "# Temporal Softmax loss\n",
    "In an RNN language model, at every timestep we produce a score for each word in the vocabulary. We know the ground-truth word at each timestep, so we use a softmax loss function to compute loss and gradient at each timestep. We sum the losses over time and average them over the minibatch.\n",
    "\n",
    "We provide this loss function for you; look at the `temporal_softmax_loss` function in the file `lib/layer_utils.py`.\n",
    "\n",
    "Run the following cell to sanity check the loss and perform numeric gradient checking on the function. You should see an error for dx less than 1e-7."
   ]
  },
  {
   "cell_type": "code",
   "execution_count": 10,
   "metadata": {
    "collapsed": false
   },
   "outputs": [
    {
     "name": "stdout",
     "output_type": "stream",
     "text": [
      "2.3026437533\n",
      "23.0261456673\n",
      "2.30211012501\n",
      "dx error:  3.73563553172e-08\n"
     ]
    }
   ],
   "source": [
    "loss_func = temporal_softmax_loss()\n",
    "\n",
    "# Sanity check for temporal softmax loss\n",
    "N, T, V = 100, 1, 10\n",
    "\n",
    "def check_loss(N, T, V, p):\n",
    "    x = 0.001 * np.random.randn(N, T, V)\n",
    "    y = np.random.randint(V, size=(N, T))\n",
    "    mask = np.random.rand(N, T) <= p\n",
    "    print(loss_func.forward(x, y, mask))\n",
    "  \n",
    "check_loss(100, 1, 10, 1.0)   # Should be about 2.3\n",
    "check_loss(100, 10, 10, 1.0)  # Should be about 23\n",
    "check_loss(5000, 10, 10, 0.1) # Should be about 2.3\n",
    "\n",
    "# Gradient check for temporal softmax loss\n",
    "N, T, V = 7, 8, 9\n",
    "\n",
    "x = np.random.randn(N, T, V)\n",
    "y = np.random.randint(V, size=(N, T))\n",
    "mask = (np.random.rand(N, T) > 0.5)\n",
    "\n",
    "loss = loss_func.forward(x, y, mask)\n",
    "dx = loss_func.backward()\n",
    "\n",
    "dx_num = eval_numerical_gradient(lambda x: loss_func.forward(x, y, mask), x, verbose=False)\n",
    "\n",
    "print('dx error: ', rel_error(dx, dx_num))"
   ]
  },
  {
   "cell_type": "markdown",
   "metadata": {},
   "source": [
    "### Inline Question: Using softmax function over vocabulary for word prediction is common in language modeling. However, this technique is not perfect, what do you think are the major disadvantages of it? Pleaes provide one disadvantage of softmax function over vocabulary. \n",
    "\n",
    "#### Ans:  (a) Softmax is computationally heavy function if dimension of input vector is huge. \n",
    "####           (b) At every time stamp, we would have to do softmax for generating word output. If out vocabulary size is 1M, it would be highly inefficiant.\n",
    "####           (c) All the scores generated are probabilities (between 0 and 1). If our vocabulary is very big (1M), there are high chances of many maximum scores. In such scenarios, we would have difficulty in choosing one single word."
   ]
  },
  {
   "cell_type": "markdown",
   "metadata": {},
   "source": [
    "# RNN for language modeling\n",
    "Now that you have the necessary layers, you can combine them to build an language modeling model. Open the file `lib/rnn.py` and look at the `TestRNN` class.\n",
    "\n",
    "Check the forward and backward pass of the model in the `loss` function. For now you only see the implementation of the case where `cell_type='rnn'` for vanialla RNNs; you will implement the LSTM case later. After doing so, run the following to check the forward pass using a small test case; you should see error less than `1e-10`."
   ]
  },
  {
   "cell_type": "code",
   "execution_count": 11,
   "metadata": {
    "collapsed": false,
    "scrolled": false
   },
   "outputs": [
    {
     "name": "stdout",
     "output_type": "stream",
     "text": [
      "loss:  51.0949189134\n",
      "expected loss:  51.0949189134\n",
      "difference:  3.88169496546e-11\n"
     ]
    }
   ],
   "source": [
    "N, D, H = 10, 20, 40\n",
    "V = 4\n",
    "T = 13\n",
    "\n",
    "model = TestRNN(D, H, cell_type='rnn')\n",
    "loss_func = temporal_softmax_loss()\n",
    "\n",
    "# Set all model parameters to fixed values\n",
    "for k, v in model.params.items():\n",
    "    model.params[k] = np.linspace(-1.4, 1.3, num=v.size).reshape(*v.shape)\n",
    "model.assign_params()\n",
    "\n",
    "features = np.linspace(-1.5, 0.3, num=(N * D * T)).reshape(N, T, D)\n",
    "h0 = np.linspace(-1.5, 0.5, num=(N*H)).reshape(N, H)\n",
    "labels = (np.arange(N * T) % V).reshape(N, T)\n",
    "\n",
    "pred = model.forward(features, h0)\n",
    "\n",
    "# You'll need this\n",
    "mask = np.ones((N, T))\n",
    "\n",
    "loss = loss_func.forward(pred, labels, mask)\n",
    "dLoss = loss_func.backward()\n",
    "\n",
    "expected_loss = 51.0949189134\n",
    "\n",
    "print('loss: ', loss)\n",
    "print('expected loss: ', expected_loss)\n",
    "print('difference: ', abs(loss - expected_loss))"
   ]
  },
  {
   "cell_type": "markdown",
   "metadata": {},
   "source": [
    "Run the following cell to perform numeric gradient checking on the `TestRNN` class; you should errors around `1e-7` or less."
   ]
  },
  {
   "cell_type": "code",
   "execution_count": 12,
   "metadata": {
    "collapsed": false
   },
   "outputs": [
    {
     "name": "stdout",
     "output_type": "stream",
     "text": [
      "vanilla_rnn_b relative error: 3.672403e-09\n",
      "vanilla_rnn_wh relative error: 3.659114e-07\n",
      "vanilla_rnn_wx relative error: 1.780015e-09\n"
     ]
    }
   ],
   "source": [
    "np.random.seed(599)\n",
    "\n",
    "batch_size = 2\n",
    "timesteps = 3\n",
    "input_dim = 4\n",
    "hidden_dim = 6\n",
    "label_size = 4\n",
    "\n",
    "labels = np.random.randint(label_size, size=(batch_size, timesteps))\n",
    "features = np.random.randn(batch_size, timesteps, input_dim)\n",
    "h0 = np.random.randn(batch_size, hidden_dim)\n",
    "\n",
    "model = TestRNN(input_dim, hidden_dim, cell_type='rnn')\n",
    "loss_func = temporal_softmax_loss()\n",
    "\n",
    "pred = model.forward(features, h0)\n",
    "\n",
    "# You'll need this\n",
    "mask = np.ones((batch_size, timesteps))\n",
    "\n",
    "loss = loss_func.forward(pred, labels, mask)\n",
    "dLoss = loss_func.backward()\n",
    "\n",
    "dout, dh0 = model.backward(dLoss)\n",
    "\n",
    "grads = model.grads\n",
    "\n",
    "for param_name in sorted(grads):\n",
    "    \n",
    "    f = lambda _: loss_func.forward(model.forward(features, h0), labels, mask)\n",
    "    param_grad_num = eval_numerical_gradient(f, model.params[param_name], verbose=False, h=1e-6)\n",
    "    e = rel_error(param_grad_num, grads[param_name])\n",
    "    print('%s relative error: %e' % (param_name, e))"
   ]
  },
  {
   "cell_type": "markdown",
   "metadata": {},
   "source": [
    "# LSTM\n",
    "Vanilla RNNs can be tough to train on long sequences due to vanishing and exploding gradiants. LSTMs solve this problem by replacing the simple update rule of the vanilla RNN with a gating mechanism as follows.\n",
    "\n",
    "Similar to the vanilla RNN, at each timestep we receive an input $x_t\\in\\mathbb{R}^D$ and the previous hidden state $h_{t-1}\\in\\mathbb{R}^H$; what is different in the LSTM is to maintains an $H$-dimensional *cell state*, so we also receive the previous cell state $c_{t-1}\\in\\mathbb{R}^H$. The learnable parameters of the LSTM are an *input-to-hidden* matrix $W_x\\in\\mathbb{R}^{4H\\times D}$, a *hidden-to-hidden* matrix $W_h\\in\\mathbb{R}^{4H\\times H}$ and a *bias vector* $b\\in\\mathbb{R}^{4H}$.\n",
    "\n",
    "At each timestep we first compute an *activation vector* $a\\in\\mathbb{R}^{4H}$ as $a=W_xx_t + W_hh_{t-1}+b$. We then divide this into four vectors $a_i,a_f,a_o,a_g\\in\\mathbb{R}^H$ where $a_i$ consists of the first $H$ elements of $a$, $a_f$ is the next $H$ elements of $a$, etc. We then compute the *input gate* $g\\in\\mathbb{R}^H$, *forget gate* $f\\in\\mathbb{R}^H$, *output gate* $o\\in\\mathbb{R}^H$ and *block input* $g\\in\\mathbb{R}^H$ as\n",
    "\n",
    "$$\n",
    "\\begin{align*}\n",
    "i = \\sigma(a_i) \\hspace{2pc}\n",
    "f = \\sigma(a_f) \\hspace{2pc}\n",
    "o = \\sigma(a_o) \\hspace{2pc}\n",
    "g = \\tanh(a_g)\n",
    "\\end{align*}\n",
    "$$\n",
    "\n",
    "where $\\sigma$ is the sigmoid function and $\\tanh$ is the hyperbolic tangent, both applied elementwise.\n",
    "\n",
    "Finally we compute the next cell state $c_t$ and next hidden state $h_t$ as\n",
    "\n",
    "$$\n",
    "c_{t} = f\\odot c_{t-1} + i\\odot g \\hspace{4pc}\n",
    "h_t = o\\odot\\tanh(c_t)\n",
    "$$\n",
    "\n",
    "where $\\odot$ is the elementwise product of vectors.\n",
    "\n",
    "In the rest of the notebook we will implement the LSTM update rule and apply it to the text generation task. \n",
    "\n",
    "In the code, we assume that data is stored in batches so that $X_t \\in \\mathbb{R}^{N\\times D}$, and will work with *transposed* versions of the parameters: $W_x \\in \\mathbb{R}^{D \\times 4H}$, $W_h \\in \\mathbb{R}^{H\\times 4H}$ so that activations $A \\in \\mathbb{R}^{N\\times 4H}$ can be computed efficiently as $A = X_t W_x + H_{t-1} W_h$"
   ]
  },
  {
   "cell_type": "markdown",
   "metadata": {},
   "source": [
    "# LSTM: step forward\n",
    "Implement the forward pass for a single timestep of an LSTM in the `step_forward` function in the file `lib/layer_utils.py`. This should be similar to the `step_forward` function that you implemented above, but using the LSTM update rule instead.\n",
    "\n",
    "Once you are done, run the following to perform a simple test of your implementation. You should see errors around `1e-8` or less."
   ]
  },
  {
   "cell_type": "code",
   "execution_count": 13,
   "metadata": {
    "collapsed": false
   },
   "outputs": [
    {
     "name": "stdout",
     "output_type": "stream",
     "text": [
      "next_h error:  5.70541319671e-09\n",
      "next_c error:  5.81431230888e-09\n"
     ]
    }
   ],
   "source": [
    "N, D, H = 3, 4, 5\n",
    "\n",
    "lstm = LSTM(D, H, init_scale=0.02, name='test_lstm')\n",
    "\n",
    "x = np.linspace(-0.4, 1.2, num=N*D).reshape(N, D)\n",
    "prev_h = np.linspace(-0.3, 0.7, num=N*H).reshape(N, H)\n",
    "prev_c = np.linspace(-0.4, 0.9, num=N*H).reshape(N, H)\n",
    "Wx = np.linspace(-2.1, 1.3, num=4*D*H).reshape(D, 4 * H)\n",
    "Wh = np.linspace(-0.7, 2.2, num=4*H*H).reshape(H, 4 * H)\n",
    "b = np.linspace(0.3, 0.7, num=4*H)\n",
    "\n",
    "lstm.params[lstm.wx_name] = Wx\n",
    "lstm.params[lstm.wh_name] = Wh\n",
    "lstm.params[lstm.b_name] = b\n",
    "\n",
    "next_h, next_c, cache = lstm.step_forward(x, prev_h, prev_c)\n",
    "\n",
    "expected_next_h = np.asarray([\n",
    "    [ 0.24635157,  0.28610883,  0.32240467,  0.35525807,  0.38474904],\n",
    "    [ 0.49223563,  0.55611431,  0.61507696,  0.66844003,  0.7159181 ],\n",
    "    [ 0.56735664,  0.66310127,  0.74419266,  0.80889665,  0.858299  ]])\n",
    "expected_next_c = np.asarray([\n",
    "    [ 0.32986176,  0.39145139,  0.451556,    0.51014116,  0.56717407],\n",
    "    [ 0.66382255,  0.76674007,  0.87195994,  0.97902709,  1.08751345],\n",
    "    [ 0.74192008,  0.90592151,  1.07717006,  1.25120233,  1.42395676]])\n",
    "\n",
    "print('next_h error: ', rel_error(expected_next_h, next_h))\n",
    "print('next_c error: ', rel_error(expected_next_c, next_c))"
   ]
  },
  {
   "cell_type": "markdown",
   "metadata": {},
   "source": [
    "# LSTM: step backward\n",
    "Implement the backward pass for a single LSTM timestep in the function `step_backward` in the file `lib/layer_utils.py`. Once you are done, run the following to perform numeric gradient checking on your implementation. You should see errors around `1e-6` or less."
   ]
  },
  {
   "cell_type": "code",
   "execution_count": 14,
   "metadata": {
    "collapsed": false
   },
   "outputs": [
    {
     "name": "stdout",
     "output_type": "stream",
     "text": [
      "dx error:  3.03923855225e-10\n",
      "dh error:  1.9747438537e-10\n",
      "dc error:  3.34351778766e-10\n",
      "dWx error:  9.37490066417e-10\n",
      "dWh error:  3.25581396004e-09\n",
      "db error:  5.05347282821e-10\n"
     ]
    }
   ],
   "source": [
    "np.random.seed(599)\n",
    "\n",
    "N, D, H = 4, 5, 6\n",
    "\n",
    "lstm = LSTM(D, H, init_scale=0.02, name='test_lstm')\n",
    "\n",
    "x = np.random.randn(N, D)\n",
    "prev_h = np.random.randn(N, H)\n",
    "prev_c = np.random.randn(N, H)\n",
    "Wx = np.random.randn(D, 4 * H)\n",
    "Wh = np.random.randn(H, 4 * H)\n",
    "b = np.random.randn(4 * H)\n",
    "\n",
    "lstm.params[lstm.wx_name] = Wx\n",
    "lstm.params[lstm.wh_name] = Wh\n",
    "lstm.params[lstm.b_name] = b\n",
    "\n",
    "next_h, next_c, cache = lstm.step_forward(x, prev_h, prev_c)\n",
    "\n",
    "dnext_h = np.random.randn(*next_h.shape)\n",
    "dnext_c = np.random.randn(*next_c.shape)\n",
    "\n",
    "fx_h = lambda x: lstm.step_forward(x, prev_h, prev_c)[0]\n",
    "fh_h = lambda h: lstm.step_forward(x, prev_h, prev_c)[0]\n",
    "fc_h = lambda c: lstm.step_forward(x, prev_h, prev_c)[0]\n",
    "fWx_h = lambda Wx: lstm.step_forward(x, prev_h, prev_c)[0]\n",
    "fWh_h = lambda Wh: lstm.step_forward(x, prev_h, prev_c)[0]\n",
    "fb_h = lambda b: lstm.step_forward(x, prev_h, prev_c)[0]\n",
    "\n",
    "fx_c = lambda x: lstm.step_forward(x, prev_h, prev_c)[1]\n",
    "fh_c = lambda h: lstm.step_forward(x, prev_h, prev_c)[1]\n",
    "fc_c = lambda c: lstm.step_forward(x, prev_h, prev_c)[1]\n",
    "fWx_c = lambda Wx: lstm.step_forward(x, prev_h, prev_c)[1]\n",
    "fWh_c = lambda Wh: lstm.step_forward(x, prev_h, prev_c)[1]\n",
    "fb_c = lambda b: lstm.step_forward(x, prev_h, prev_c)[1]\n",
    "\n",
    "num_grad = eval_numerical_gradient_array\n",
    "\n",
    "dx_num = num_grad(fx_h, x, dnext_h) + num_grad(fx_c, x, dnext_c)\n",
    "dh_num = num_grad(fh_h, prev_h, dnext_h) + num_grad(fh_c, prev_h, dnext_c)\n",
    "dc_num = num_grad(fc_h, prev_c, dnext_h) + num_grad(fc_c, prev_c, dnext_c)\n",
    "dWx_num = num_grad(fWx_h, Wx, dnext_h) + num_grad(fWx_c, Wx, dnext_c)\n",
    "dWh_num = num_grad(fWh_h, Wh, dnext_h) + num_grad(fWh_c, Wh, dnext_c)\n",
    "db_num = num_grad(fb_h, b, dnext_h) + num_grad(fb_c, b, dnext_c)\n",
    "\n",
    "dx, dh, dc, dWx, dWh, db = lstm.step_backward(dnext_h, dnext_c, cache)\n",
    "\n",
    "print('dx error: ', rel_error(dx_num, dx))\n",
    "print('dh error: ', rel_error(dh_num, dh))\n",
    "print('dc error: ', rel_error(dc_num, dc))\n",
    "print('dWx error: ', rel_error(dWx_num, dWx))\n",
    "print('dWh error: ', rel_error(dWh_num, dWh))\n",
    "print('db error: ', rel_error(db_num, db))"
   ]
  },
  {
   "cell_type": "markdown",
   "metadata": {},
   "source": [
    "# LSTM: forward\n",
    "In the class `lstm` in the file `lib/layer_utils.py`, implement the `forward` function to run an LSTM forward on an entire timeseries of data.\n",
    "\n",
    "When you are done, run the following to check your implementation. You should see an error around `1e-7`."
   ]
  },
  {
   "cell_type": "code",
   "execution_count": 15,
   "metadata": {
    "collapsed": false
   },
   "outputs": [
    {
     "name": "stdout",
     "output_type": "stream",
     "text": [
      "h error:  8.61053745211e-08\n"
     ]
    }
   ],
   "source": [
    "N, D, H, T = 2, 5, 4, 3\n",
    "\n",
    "lstm = LSTM(D, H, init_scale=0.02, name='test_lstm')\n",
    "\n",
    "x = np.linspace(-0.4, 0.6, num=N*T*D).reshape(N, T, D)\n",
    "h0 = np.linspace(-0.4, 0.8, num=N*H).reshape(N, H)\n",
    "Wx = np.linspace(-0.2, 0.9, num=4*D*H).reshape(D, 4 * H)\n",
    "Wh = np.linspace(-0.3, 0.6, num=4*H*H).reshape(H, 4 * H)\n",
    "b = np.linspace(0.2, 0.7, num=4*H)\n",
    "\n",
    "lstm.params[lstm.wx_name] = Wx\n",
    "lstm.params[lstm.wh_name] = Wh\n",
    "lstm.params[lstm.b_name] = b\n",
    "\n",
    "h = lstm.forward(x, h0)\n",
    "\n",
    "expected_h = np.asarray([\n",
    " [[ 0.01764008,  0.01823233,  0.01882671,  0.0194232 ],\n",
    "  [ 0.11287491,  0.12146228,  0.13018446,  0.13902939],\n",
    "  [ 0.31358768,  0.33338627,  0.35304453,  0.37250975]],\n",
    " [[ 0.45767879,  0.4761092,   0.4936887,   0.51041945],\n",
    "  [ 0.6704845,   0.69350089,  0.71486014,  0.7346449 ],\n",
    "  [ 0.81733511,  0.83677871,  0.85403753,  0.86935314]]])\n",
    "\n",
    "print('h error: ', rel_error(expected_h, h))"
   ]
  },
  {
   "cell_type": "markdown",
   "metadata": {},
   "source": [
    "# LSTM: backward\n",
    "Implement the backward pass for an LSTM over an entire timeseries of data in the function `backward` in the `lstm` class in the file `lib/layer_utils.py`. When you are done, run the following to perform numeric gradient checking on your implementation. You should see errors around `1e-7` or less."
   ]
  },
  {
   "cell_type": "code",
   "execution_count": 16,
   "metadata": {
    "collapsed": false
   },
   "outputs": [
    {
     "name": "stdout",
     "output_type": "stream",
     "text": [
      "dx error:  2.53019168273e-09\n",
      "dh0 error:  6.30050348665e-10\n",
      "dWx error:  5.36373023984e-09\n",
      "dWh error:  1.50131671476e-08\n",
      "db error:  1.50144280866e-08\n"
     ]
    }
   ],
   "source": [
    "np.random.seed(599)\n",
    "\n",
    "N, D, T, H = 2, 3, 10, 6\n",
    "\n",
    "lstm = LSTM(D, H, init_scale=0.02, name='test_lstm')\n",
    "\n",
    "x = np.random.randn(N, T, D)\n",
    "h0 = np.random.randn(N, H)\n",
    "Wx = np.random.randn(D, 4 * H)\n",
    "Wh = np.random.randn(H, 4 * H)\n",
    "b = np.random.randn(4 * H)\n",
    "\n",
    "lstm.params[lstm.wx_name] = Wx\n",
    "lstm.params[lstm.wh_name] = Wh\n",
    "lstm.params[lstm.b_name] = b\n",
    "\n",
    "out = lstm.forward(x, h0)\n",
    "\n",
    "dout = np.random.randn(*out.shape)\n",
    "\n",
    "dx, dh0 = lstm.backward(dout)\n",
    "dWx = lstm.grads[lstm.wx_name] \n",
    "dWh = lstm.grads[lstm.wh_name]\n",
    "db = lstm.grads[lstm.b_name]\n",
    "\n",
    "dx_num = eval_numerical_gradient_array(lambda x: lstm.forward(x, h0), x, dout)\n",
    "dh0_num = eval_numerical_gradient_array(lambda h0: lstm.forward(x, h0), h0, dout)\n",
    "dWx_num = eval_numerical_gradient_array(lambda Wx: lstm.forward(x, h0), Wx, dout)\n",
    "dWh_num = eval_numerical_gradient_array(lambda Wh: lstm.forward(x, h0), Wh, dout)\n",
    "db_num = eval_numerical_gradient_array(lambda b: lstm.forward(x, h0), b, dout)\n",
    "\n",
    "print('dx error: ', rel_error(dx_num, dx))\n",
    "print('dh0 error: ', rel_error(dh0_num, dh0))\n",
    "print('dWx error: ', rel_error(dWx_num, dWx))\n",
    "print('dWh error: ', rel_error(dWh_num, dWh))\n",
    "print('db error: ', rel_error(db_num, db))"
   ]
  },
  {
   "cell_type": "markdown",
   "metadata": {},
   "source": [
    "# LSTM model\n",
    "\n",
    "Now that you have implemented an LSTM, update the initialization of the `TestRNN` class in the file `lib/rnn.py` to handle the case where `self.cell_type` is `lstm`. This should require adding only one line of codes.\n",
    "\n",
    "Once you have done so, run the following to check your implementation. You should see a difference of less than `1e-10`."
   ]
  },
  {
   "cell_type": "code",
   "execution_count": 17,
   "metadata": {
    "collapsed": false
   },
   "outputs": [
    {
     "name": "stdout",
     "output_type": "stream",
     "text": [
      "loss:  49.2140256354\n",
      "expected loss:  49.2140256354\n",
      "difference:  4.29309920946e-11\n"
     ]
    }
   ],
   "source": [
    "N, D, H = 10, 20, 40\n",
    "V = 4\n",
    "T = 13\n",
    "\n",
    "model = TestRNN(D, H, cell_type='lstm')\n",
    "loss_func = temporal_softmax_loss()\n",
    "\n",
    "# Set all model parameters to fixed values\n",
    "for k, v in model.params.items():\n",
    "    model.params[k] = np.linspace(-1.4, 1.3, num=v.size).reshape(*v.shape)\n",
    "model.assign_params()\n",
    "\n",
    "features = np.linspace(-1.5, 0.3, num=(N * D * T)).reshape(N, T, D)\n",
    "h0 = np.linspace(-1.5, 0.5, num=(N*H)).reshape(N, H)\n",
    "labels = (np.arange(N * T) % V).reshape(N, T)\n",
    "\n",
    "pred = model.forward(features, h0)\n",
    "\n",
    "# You'll need this\n",
    "mask = np.ones((N, T))\n",
    "\n",
    "loss = loss_func.forward(pred, labels, mask)\n",
    "dLoss = loss_func.backward()\n",
    "\n",
    "expected_loss = 49.2140256354\n",
    "\n",
    "print('loss: ', loss)\n",
    "print('expected loss: ', expected_loss)\n",
    "print('difference: ', abs(loss - expected_loss))"
   ]
  },
  {
   "cell_type": "markdown",
   "metadata": {},
   "source": [
    "# Let's have some fun!!\n",
    "\n",
    "Now you have everything you need for language modeling. You will work on text generation using RNNs from any text source (novel, lyrics). The network is trained to predict what word is coming next given a previous word. Once you train the model, by looping the network, you can keep generating a new text which is mimicing the original text source. Let's first put your source text you want to model in the following text box!\n",
    "\n",
    "**Notice**: in order to run next cell, paste your own text words into the form and hit Enter. Do not use notebook's own 'run cell' since it wouldn't read in anything."
   ]
  },
  {
   "cell_type": "code",
   "execution_count": 1,
   "metadata": {
    "collapsed": false
   },
   "outputs": [],
   "source": [
    "from ipywidgets import widgets, interact\n",
    "from IPython.display import display\n",
    "input_text = widgets.Text()\n",
    "input_text.value = '''A wonderful fact to reflect upon, that every human creature is constituted to be that profound secret and mystery to every other. A solemn consideration, when I enter a great city by night, that every one of those darkly clustered houses encloses its own secret; that every room in every one of them encloses its own secret; that every beating heart in the hundreds of thousands of breasts there, is, in some of its imaginings, a secret to the heart nearest it! Something of the awfulness, even of Death itself, is referable to this. No more can I turn the leaves of this dear book that I loved, and vainly hope in time to read it all. No more can I look into the depths of this unfathomable water, wherein, as momentary lights glanced into it, I have had glimpses of buried treasure and other things submerged. It was appointed that the book should shut with a spring, for ever and for ever, when I had read but a page. It was appointed that the water should be locked in an eternal frost, when the light was playing on its surface, and I stood in ignorance on the shore. My friend is dead, my neighbour is dead, my love, the darling of my soul, is dead; it is the inexorable consolidation and perpetuation of the secret that was always in that individuality, and which I shall carry in mine to my life’s end. In any of the burial-places of this city through which I pass, is there a sleeper more inscrutable than its busy inhabitants are, in their innermost personality, to me, or than I am to them? As to this, his natural and not to be alienated inheritance, the messenger on horseback had exactly the same possessions as the King, the first Minister of State, or the richest merchant in London. So with the three passengers shut up in the narrow compass of one lumbering old mail coach; they were mysteries to one another, as complete as if each had been in his own coach and six, or his own coach and sixty, with the breadth of a county between him and the next. The messenger rode back at an easy trot, stopping pretty often at ale-houses by the way to drink, but evincing a tendency to keep his own counsel, and to keep his hat cocked over his eyes. He had eyes that assorted very well with that decoration, being of a surface black, with no depth in the colour or form, and much too near together—as if they were afraid of being found out in something, singly, if they kept too far apart. They had a sinister expression, under an old cocked-hat like a three-cornered spittoon, and over a great muffler for the chin and throat, which descended nearly to the wearer’s knees. When he stopped for drink, he moved this muffler with his left hand, only while he poured his liquor in with his right; as soon as that was done, he muffled again. No, Jerry, no! said the messenger, harping on one theme as he rode. It wouldn’t do for you, Jerry. Jerry, you honest tradesman, it wouldn’t suit your line of business! Recalled—! Bust me if I don’t think he’d been a drinking! His message perplexed his mind to that degree that he was fain, several times, to take off his hat to scratch his head. Except on the crown, which was raggedly bald, he had stiff, black hair, standing jaggedly all over it, and growing down hill almost to his broad, blunt nose. It was so like Smith’s work, so much more like the top of a strongly spiked wall than a head of hair, that the best of players at leap-frog might have declined him, as the most dangerous man in the world to go over. While he trotted back with the message he was to deliver to the night watchman in his box at the door of Tellson’s Bank, by Temple Bar, who was to deliver it to greater authorities within, the shadows of the night took such shapes to him as arose out of the message, and took such shapes to the mare as arose out of her private topics of uneasiness. They seemed to be numerous, for she shied at every shadow on the road. What time, the mail-coach lumbered, jolted, rattled, and bumped upon its tedious way, with its three fellow-inscrutables inside. To whom, likewise, the shadows of the night revealed themselves, in the forms their dozing eyes and wandering thoughts suggested. Tellson’s Bank had a run upon it in the mail. As the bank passenger—with an arm drawn through the leathern strap, which did what lay in it to keep him from pounding against the next passenger, and driving him into his corner, whenever the coach got a special jolt—nodded in his place, with half-shut eyes, the little coach-windows, and the coach-lamp dimly gleaming through them, and the bulky bundle of opposite passenger, became the bank, and did a great stroke of business. The rattle of the harness was the chink of money, and more drafts were honoured in five minutes than even Tellson’s, with all its foreign and home connection, ever paid in thrice the time. Then the strong-rooms underground, at Tellson’s, with such of their valuable stores and secrets as were known to the passenger (and it was not a little that he knew about them), opened before him, and he went in among them with the great keys and the feebly-burning candle, and found them safe, and strong, and sound, and still, just as he had last seen them. But, though the bank was almost always with him, and though the coach (in a confused way, like the presence of pain under an opiate) was always with him, there was another current of impression that never ceased to run, all through the night. He was on his way to dig some one out of a grave. Now, which of the multitude of faces that showed themselves before him was the true face of the buried person, the shadows of the night did not indicate; but they were all the faces of a man of five-and-forty by years, and they differed principally in the passions they expressed, and in the ghastliness of their worn and wasted state. Pride, contempt, defiance, stubbornness, submission, lamentation, succeeded one another; so did varieties of sunken cheek, cadaverous colour, emaciated hands and figures. But the face was in the main one face, and every head was prematurely white. A hundred times the dozing passenger inquired of this spectre:'''\n",
    "def f(x):\n",
    "    print('set!!')\n",
    "    print(x.value)\n",
    "input_text.on_submit(f)\n",
    "input_text\n",
    "# copy paste your text source in the box below and hit enter.\n",
    "# If you don't have any preference, \n",
    "# you can copy paste the lyrics from here https://www.azlyrics.com/lyrics/ylvis/thefox.html"
   ]
  },
  {
   "cell_type": "markdown",
   "metadata": {},
   "source": [
    "simply run the following code to construct training dataset<br />"
   ]
  },
  {
   "cell_type": "code",
   "execution_count": 4,
   "metadata": {
    "collapsed": false
   },
   "outputs": [
    {
     "name": "stdout",
     "output_type": "stream",
     "text": [
      "Input text size: 1108\n",
      "Input word number: 529\n"
     ]
    }
   ],
   "source": [
    "import re\n",
    "\n",
    "text = re.split(' |\\n',input_text.value.lower()) # all words are converted into lower case\n",
    "outputSize = len(text)\n",
    "word_list = list(set(text))\n",
    "dataSize = len(word_list)\n",
    "output = np.zeros(outputSize)\n",
    "for i in range(0, outputSize):\n",
    "    index = np.where(np.asarray(word_list) == text[i])\n",
    "    output[i] = index[0]\n",
    "data_labels = output.astype(np.int)\n",
    "gt_labels = data_labels[1:]\n",
    "data_labels = data_labels[:-1]\n",
    "\n",
    "print('Input text size: %s' % outputSize)\n",
    "print('Input word number: %s' % dataSize)"
   ]
  },
  {
   "cell_type": "markdown",
   "metadata": {},
   "source": [
    "We defined a LanguageModelRNN class for you to fill in the TODO block in rnn.py.\n",
    "* Here design a recurrent neutral network consisting of a word_embedding layer, recurrent unit, and temporal fully connected layers so that they match the provided dimentions.\n",
    "* Please read the train.py under lib directory carefully and complete the TODO blocks in the train_net function first."
   ]
  },
  {
   "cell_type": "code",
   "execution_count": 23,
   "metadata": {
    "collapsed": false
   },
   "outputs": [
    {
     "name": "stdout",
     "output_type": "stream",
     "text": [
      "(Iteration 1 / 11000) loss: 313.5580295398198\n",
      "(Iteration 101 / 11000) loss: 273.7462116696862\n",
      "bast performance 6.9557362240289065%\n",
      "(Epoch 1 / 100) Training Accuracy: 0.06955736224028906\n",
      "(Iteration 201 / 11000) loss: 276.2712816225513\n",
      "(Epoch 2 / 100) Training Accuracy: 0.06955736224028906\n",
      "(Iteration 301 / 11000) loss: 273.4410277505592\n",
      "(Epoch 3 / 100) Training Accuracy: 0.06955736224028906\n",
      "(Iteration 401 / 11000) loss: 265.24173360638895\n",
      "(Epoch 4 / 100) Training Accuracy: 0.06955736224028906\n",
      "(Iteration 501 / 11000) loss: 263.5330172014784\n",
      "(Epoch 5 / 100) Training Accuracy: 0.06955736224028906\n",
      "(Iteration 601 / 11000) loss: 261.59740073051523\n",
      "(Epoch 6 / 100) Training Accuracy: 0.06955736224028906\n",
      "(Iteration 701 / 11000) loss: 254.2333572590067\n",
      "(Epoch 7 / 100) Training Accuracy: 0.06955736224028906\n",
      "(Iteration 801 / 11000) loss: 258.47067439562994\n",
      "(Epoch 8 / 100) Training Accuracy: 0.06865401987353206\n",
      "(Iteration 901 / 11000) loss: 249.55958808459187\n",
      "(Epoch 9 / 100) Training Accuracy: 0.06865401987353206\n",
      "(Iteration 1001 / 11000) loss: 252.05238008683955\n",
      "(Epoch 10 / 100) Training Accuracy: 0.06955736224028906\n",
      "(Iteration 1101 / 11000) loss: 239.62018904838555\n",
      "(Iteration 1201 / 11000) loss: 235.18019126222052\n",
      "bast performance 7.136404697380307%\n",
      "(Epoch 11 / 100) Training Accuracy: 0.07136404697380307\n",
      "(Iteration 1301 / 11000) loss: 234.10962349851079\n",
      "bast performance 8.94308943089431%\n",
      "(Epoch 12 / 100) Training Accuracy: 0.08943089430894309\n",
      "(Iteration 1401 / 11000) loss: 233.90815674269288\n",
      "bast performance 9.39476061427281%\n",
      "(Epoch 13 / 100) Training Accuracy: 0.0939476061427281\n",
      "(Iteration 1501 / 11000) loss: 223.9415721475434\n",
      "bast performance 10.20776874435411%\n",
      "(Epoch 14 / 100) Training Accuracy: 0.1020776874435411\n",
      "(Iteration 1601 / 11000) loss: 222.43037159054074\n",
      "bast performance 10.749774164408311%\n",
      "(Epoch 15 / 100) Training Accuracy: 0.10749774164408311\n",
      "(Iteration 1701 / 11000) loss: 219.4856883090096\n",
      "bast performance 11.653116531165312%\n",
      "(Epoch 16 / 100) Training Accuracy: 0.11653116531165311\n",
      "(Iteration 1801 / 11000) loss: 209.74560297141687\n",
      "bast performance 12.917795844625113%\n",
      "(Epoch 17 / 100) Training Accuracy: 0.12917795844625113\n",
      "(Iteration 1901 / 11000) loss: 215.72138369543148\n",
      "bast performance 13.279132791327914%\n",
      "(Epoch 18 / 100) Training Accuracy: 0.13279132791327913\n",
      "(Iteration 2001 / 11000) loss: 207.3521550463939\n",
      "bast performance 14.453477868112014%\n",
      "(Epoch 19 / 100) Training Accuracy: 0.14453477868112014\n",
      "(Iteration 2101 / 11000) loss: 194.0256408893257\n",
      "bast performance 14.724480578139115%\n",
      "(Epoch 20 / 100) Training Accuracy: 0.14724480578139115\n",
      "(Iteration 2201 / 11000) loss: 200.02976668825116\n",
      "(Iteration 2301 / 11000) loss: 195.4686707530367\n",
      "bast performance 15.537488708220415%\n",
      "(Epoch 21 / 100) Training Accuracy: 0.15537488708220415\n",
      "(Iteration 2401 / 11000) loss: 191.51131668775758\n",
      "bast performance 16.260162601626014%\n",
      "(Epoch 22 / 100) Training Accuracy: 0.16260162601626016\n",
      "(Iteration 2501 / 11000) loss: 187.6665900748993\n",
      "bast performance 16.982836495031616%\n",
      "(Epoch 23 / 100) Training Accuracy: 0.16982836495031617\n",
      "(Iteration 2601 / 11000) loss: 183.75171329513037\n",
      "bast performance 17.976513098464316%\n",
      "(Epoch 24 / 100) Training Accuracy: 0.17976513098464317\n",
      "(Iteration 2701 / 11000) loss: 181.59015804625182\n",
      "bast performance 19.33152664859982%\n",
      "(Epoch 25 / 100) Training Accuracy: 0.1933152664859982\n",
      "(Iteration 2801 / 11000) loss: 172.57718327940034\n",
      "bast performance 21.40921409214092%\n",
      "(Epoch 26 / 100) Training Accuracy: 0.2140921409214092\n",
      "(Iteration 2901 / 11000) loss: 169.9886826121934\n",
      "bast performance 22.58355916892502%\n",
      "(Epoch 27 / 100) Training Accuracy: 0.22583559168925021\n",
      "(Iteration 3001 / 11000) loss: 167.26614115413767\n",
      "bast performance 24.841915085817526%\n",
      "(Epoch 28 / 100) Training Accuracy: 0.24841915085817526\n",
      "(Iteration 3101 / 11000) loss: 163.3568729634165\n",
      "bast performance 26.919602529358627%\n",
      "(Epoch 29 / 100) Training Accuracy: 0.26919602529358627\n",
      "(Iteration 3201 / 11000) loss: 160.71441385270322\n",
      "bast performance 28.72628726287263%\n",
      "(Epoch 30 / 100) Training Accuracy: 0.2872628726287263\n",
      "(Iteration 3301 / 11000) loss: 156.86393949955635\n",
      "(Iteration 3401 / 11000) loss: 153.06499044513538\n",
      "bast performance 31.616982836495033%\n",
      "(Epoch 31 / 100) Training Accuracy: 0.31616982836495033\n",
      "(Iteration 3501 / 11000) loss: 147.27571022153825\n",
      "bast performance 33.15266485998193%\n",
      "(Epoch 32 / 100) Training Accuracy: 0.33152664859981934\n",
      "(Iteration 3601 / 11000) loss: 140.97110582674196\n",
      "bast performance 34.959349593495936%\n",
      "(Epoch 33 / 100) Training Accuracy: 0.34959349593495936\n",
      "(Iteration 3701 / 11000) loss: 143.15261933251193\n",
      "bast performance 37.94037940379404%\n",
      "(Epoch 34 / 100) Training Accuracy: 0.3794037940379404\n",
      "(Iteration 3801 / 11000) loss: 141.2983887795584\n",
      "bast performance 38.572719060523944%\n",
      "(Epoch 35 / 100) Training Accuracy: 0.3857271906052394\n",
      "(Iteration 3901 / 11000) loss: 135.94833321748177\n",
      "bast performance 40.10840108401084%\n",
      "(Epoch 36 / 100) Training Accuracy: 0.4010840108401084\n",
      "(Iteration 4001 / 11000) loss: 134.6373696618951\n",
      "bast performance 41.734417344173444%\n",
      "(Epoch 37 / 100) Training Accuracy: 0.4173441734417344\n",
      "(Iteration 4101 / 11000) loss: 136.24399951938787\n",
      "bast performance 42.637759710930446%\n",
      "(Epoch 38 / 100) Training Accuracy: 0.42637759710930445\n",
      "(Iteration 4201 / 11000) loss: 126.52055115396226\n",
      "bast performance 43.63143631436314%\n",
      "(Epoch 39 / 100) Training Accuracy: 0.4363143631436314\n",
      "(Iteration 4301 / 11000) loss: 122.02638713774286\n",
      "bast performance 44.896115627822944%\n",
      "(Epoch 40 / 100) Training Accuracy: 0.44896115627822947\n",
      "(Iteration 4401 / 11000) loss: 121.30161459833872\n",
      "(Iteration 4501 / 11000) loss: 115.46779647857993\n",
      "bast performance 47.425474254742554%\n",
      "(Epoch 41 / 100) Training Accuracy: 0.4742547425474255\n",
      "(Iteration 4601 / 11000) loss: 127.12891932963173\n",
      "bast performance 48.509485094850945%\n",
      "(Epoch 42 / 100) Training Accuracy: 0.48509485094850946\n",
      "(Iteration 4701 / 11000) loss: 112.77137105783409\n",
      "bast performance 50.58717253839205%\n",
      "(Epoch 43 / 100) Training Accuracy: 0.5058717253839206\n",
      "(Iteration 4801 / 11000) loss: 116.09656707362542\n",
      "bast performance 51.490514905149055%\n",
      "(Epoch 44 / 100) Training Accuracy: 0.5149051490514905\n",
      "(Iteration 4901 / 11000) loss: 109.09491812439774\n",
      "bast performance 52.75519421860885%\n",
      "(Epoch 45 / 100) Training Accuracy: 0.5275519421860885\n",
      "(Iteration 5001 / 11000) loss: 111.21340494580677\n",
      "bast performance 53.20686540198736%\n",
      "(Epoch 46 / 100) Training Accuracy: 0.5320686540198736\n",
      "(Iteration 5101 / 11000) loss: 107.64687900928907\n",
      "bast performance 54.01987353206865%\n",
      "(Epoch 47 / 100) Training Accuracy: 0.5401987353206865\n",
      "(Iteration 5201 / 11000) loss: 106.8152568235696\n",
      "bast performance 54.74254742547425%\n",
      "(Epoch 48 / 100) Training Accuracy: 0.5474254742547425\n",
      "(Iteration 5301 / 11000) loss: 100.34945463985939\n",
      "bast performance 55.103884372177056%\n",
      "(Epoch 49 / 100) Training Accuracy: 0.5510388437217706\n",
      "(Iteration 5401 / 11000) loss: 102.80745198162023\n",
      "bast performance 55.55555555555556%\n",
      "(Epoch 50 / 100) Training Accuracy: 0.5555555555555556\n",
      "(Iteration 5501 / 11000) loss: 98.46156905662107\n",
      "(Iteration 5601 / 11000) loss: 96.90910520947601\n",
      "bast performance 56.09756097560976%\n",
      "(Epoch 51 / 100) Training Accuracy: 0.5609756097560976\n",
      "(Iteration 5701 / 11000) loss: 99.50223774814484\n",
      "bast performance 56.45889792231256%\n",
      "(Epoch 52 / 100) Training Accuracy: 0.5645889792231256\n",
      "(Iteration 5801 / 11000) loss: 93.61000670712379\n",
      "bast performance 57.00090334236676%\n",
      "(Epoch 53 / 100) Training Accuracy: 0.5700090334236676\n",
      "(Iteration 5901 / 11000) loss: 93.15740299322175\n",
      "bast performance 58.08491418247515%\n",
      "(Epoch 54 / 100) Training Accuracy: 0.5808491418247516\n",
      "(Iteration 6001 / 11000) loss: 89.81306231589605\n",
      "(Epoch 55 / 100) Training Accuracy: 0.5808491418247516\n",
      "(Iteration 6101 / 11000) loss: 89.86406786233319\n",
      "bast performance 58.89792231255646%\n",
      "(Epoch 56 / 100) Training Accuracy: 0.5889792231255646\n",
      "(Iteration 6201 / 11000) loss: 86.45021459002025\n",
      "bast performance 59.25925925925925%\n",
      "(Epoch 57 / 100) Training Accuracy: 0.5925925925925926\n",
      "(Iteration 6301 / 11000) loss: 84.77375428038108\n",
      "bast performance 59.891598915989164%\n",
      "(Epoch 58 / 100) Training Accuracy: 0.5989159891598916\n",
      "(Iteration 6401 / 11000) loss: 86.99070334092961\n",
      "bast performance 60.343270099367665%\n",
      "(Epoch 59 / 100) Training Accuracy: 0.6034327009936766\n",
      "(Iteration 6501 / 11000) loss: 83.27474761563016\n",
      "bast performance 61.60794941282746%\n",
      "(Epoch 60 / 100) Training Accuracy: 0.6160794941282746\n",
      "(Iteration 6601 / 11000) loss: 79.69703713468535\n",
      "(Iteration 6701 / 11000) loss: 79.33814936701133\n",
      "bast performance 61.69828364950316%\n",
      "(Epoch 61 / 100) Training Accuracy: 0.6169828364950316\n",
      "(Iteration 6801 / 11000) loss: 81.12907911911192\n",
      "bast performance 62.51129177958447%\n",
      "(Epoch 62 / 100) Training Accuracy: 0.6251129177958447\n",
      "(Iteration 6901 / 11000) loss: 77.87889394169574\n",
      "bast performance 62.782294489611566%\n",
      "(Epoch 63 / 100) Training Accuracy: 0.6278229448961157\n",
      "(Iteration 7001 / 11000) loss: 88.03762448304306\n",
      "bast performance 63.32429990966576%\n",
      "(Epoch 64 / 100) Training Accuracy: 0.6332429990966576\n",
      "(Iteration 7101 / 11000) loss: 80.94021072630927\n",
      "(Epoch 65 / 100) Training Accuracy: 0.6332429990966576\n",
      "(Iteration 7201 / 11000) loss: 75.13686487079731\n",
      "bast performance 64.04697380307137%\n",
      "(Epoch 66 / 100) Training Accuracy: 0.6404697380307136\n",
      "(Iteration 7301 / 11000) loss: 74.72415207790938\n",
      "bast performance 64.22764227642277%\n",
      "(Epoch 67 / 100) Training Accuracy: 0.6422764227642277\n",
      "(Iteration 7401 / 11000) loss: 79.43072517326723\n",
      "bast performance 64.95031616982837%\n",
      "(Epoch 68 / 100) Training Accuracy: 0.6495031616982837\n",
      "(Iteration 7501 / 11000) loss: 70.71331158893177\n",
      "bast performance 65.49232158988256%\n",
      "(Epoch 69 / 100) Training Accuracy: 0.6549232158988256\n",
      "(Iteration 7601 / 11000) loss: 70.37306371192237\n",
      "bast performance 65.58265582655827%\n",
      "(Epoch 70 / 100) Training Accuracy: 0.6558265582655827\n",
      "(Iteration 7701 / 11000) loss: 73.4771484681545\n",
      "(Iteration 7801 / 11000) loss: 69.69088748961401\n",
      "bast performance 66.30532971996386%\n",
      "(Epoch 71 / 100) Training Accuracy: 0.6630532971996387\n",
      "(Iteration 7901 / 11000) loss: 66.78995319001528\n",
      "bast performance 66.75700090334237%\n",
      "(Epoch 72 / 100) Training Accuracy: 0.6675700090334237\n",
      "(Iteration 8001 / 11000) loss: 68.55913575139986\n",
      "bast performance 67.38934056007227%\n",
      "(Epoch 73 / 100) Training Accuracy: 0.6738934056007226\n",
      "(Iteration 8101 / 11000) loss: 71.08447015103702\n",
      "(Epoch 74 / 100) Training Accuracy: 0.6729900632339657\n",
      "(Iteration 8201 / 11000) loss: 67.76125782333767\n",
      "bast performance 67.66034327009936%\n",
      "(Epoch 75 / 100) Training Accuracy: 0.6766034327009937\n",
      "(Iteration 8301 / 11000) loss: 64.76434224450114\n",
      "bast performance 68.65401987353206%\n",
      "(Epoch 76 / 100) Training Accuracy: 0.6865401987353207\n",
      "(Iteration 8401 / 11000) loss: 72.0182856419535\n",
      "bast performance 68.92502258355917%\n",
      "(Epoch 77 / 100) Training Accuracy: 0.6892502258355917\n",
      "(Iteration 8501 / 11000) loss: 59.78377066733633\n",
      "bast performance 69.73803071364047%\n",
      "(Epoch 78 / 100) Training Accuracy: 0.6973803071364046\n",
      "(Iteration 8601 / 11000) loss: 62.98021909776869\n",
      "bast performance 70.37037037037037%\n",
      "(Epoch 79 / 100) Training Accuracy: 0.7037037037037037\n",
      "(Iteration 8701 / 11000) loss: 59.69788145343405\n",
      "(Epoch 80 / 100) Training Accuracy: 0.7037037037037037\n",
      "(Iteration 8801 / 11000) loss: 61.62326165774969\n",
      "(Iteration 8901 / 11000) loss: 58.7589037382819\n",
      "bast performance 70.46070460704607%\n",
      "(Epoch 81 / 100) Training Accuracy: 0.7046070460704607\n",
      "(Iteration 9001 / 11000) loss: 61.24621918577884\n",
      "bast performance 71.09304426377598%\n",
      "(Epoch 82 / 100) Training Accuracy: 0.7109304426377597\n",
      "(Iteration 9101 / 11000) loss: 61.17964824527066\n",
      "bast performance 71.45438121047877%\n",
      "(Epoch 83 / 100) Training Accuracy: 0.7145438121047877\n",
      "(Iteration 9201 / 11000) loss: 56.150549337518854\n",
      "bast performance 72.35772357723577%\n",
      "(Epoch 84 / 100) Training Accuracy: 0.7235772357723578\n",
      "(Iteration 9301 / 11000) loss: 53.65259730070204\n",
      "bast performance 72.99006323396567%\n",
      "(Epoch 85 / 100) Training Accuracy: 0.7299006323396567\n",
      "(Iteration 9401 / 11000) loss: 54.72787410219239\n",
      "bast performance 73.98373983739837%\n",
      "(Epoch 86 / 100) Training Accuracy: 0.7398373983739838\n",
      "(Iteration 9501 / 11000) loss: 58.268417621517074\n",
      "(Epoch 87 / 100) Training Accuracy: 0.7362240289069557\n",
      "(Iteration 9601 / 11000) loss: 54.79633577284195\n",
      "(Epoch 88 / 100) Training Accuracy: 0.7389340560072267\n",
      "(Iteration 9701 / 11000) loss: 56.1710511778263\n",
      "bast performance 74.61607949412827%\n",
      "(Epoch 89 / 100) Training Accuracy: 0.7461607949412827\n",
      "(Iteration 9801 / 11000) loss: 53.158698639840985\n",
      "(Epoch 90 / 100) Training Accuracy: 0.7416440831074977\n",
      "(Iteration 9901 / 11000) loss: 50.90547150872288\n",
      "(Iteration 10001 / 11000) loss: 57.68132108895973\n",
      "bast performance 74.79674796747967%\n",
      "(Epoch 91 / 100) Training Accuracy: 0.7479674796747967\n",
      "(Iteration 10101 / 11000) loss: 52.713878823592225\n",
      "bast performance 75.70009033423668%\n",
      "(Epoch 92 / 100) Training Accuracy: 0.7570009033423668\n",
      "(Iteration 10201 / 11000) loss: 55.612718480918865\n",
      "bast performance 76.06142728093947%\n",
      "(Epoch 93 / 100) Training Accuracy: 0.7606142728093948\n",
      "(Iteration 10301 / 11000) loss: 49.43774208864947\n",
      "bast performance 76.87443541102078%\n",
      "(Epoch 94 / 100) Training Accuracy: 0.7687443541102078\n",
      "(Iteration 10401 / 11000) loss: 48.651477089319386\n",
      "(Epoch 95 / 100) Training Accuracy: 0.7669376693766937\n",
      "(Iteration 10501 / 11000) loss: 51.1247659336344\n",
      "bast performance 77.05510388437217%\n",
      "(Epoch 96 / 100) Training Accuracy: 0.7705510388437218\n",
      "(Iteration 10601 / 11000) loss: 45.13797200267298\n",
      "bast performance 77.68744354110207%\n",
      "(Epoch 97 / 100) Training Accuracy: 0.7768744354110207\n",
      "(Iteration 10701 / 11000) loss: 48.03661578970043\n",
      "bast performance 77.95844625112917%\n",
      "(Epoch 98 / 100) Training Accuracy: 0.7795844625112918\n",
      "(Iteration 10801 / 11000) loss: 45.634590061901406\n",
      "bast performance 78.22944896115628%\n",
      "(Epoch 99 / 100) Training Accuracy: 0.7822944896115628\n",
      "(Iteration 10901 / 11000) loss: 47.058607853436776\n",
      "bast performance 79.04245709123758%\n",
      "(Epoch 100 / 100) Training Accuracy: 0.7904245709123758\n"
     ]
    }
   ],
   "source": [
    "# you can change the following parameters.\n",
    "D = 10 # input dimention\n",
    "H = 20 # hidden space dimention\n",
    "T = 50 # timesteps\n",
    "N = 10 # batch size\n",
    "max_epoch = 100 # max epoch size\n",
    "\n",
    "loss_func = temporal_softmax_loss()\n",
    "# you can change the cell_type between 'rnn' and 'lstm'.\n",
    "model = LanguageModelRNN(dataSize, D, H, cell_type='lstm')\n",
    "optimizer = Adam(model, 5e-4)\n",
    "\n",
    "data = { 'data_train': data_labels, 'labels_train': gt_labels }\n",
    "\n",
    "results = train_net(data, model, loss_func, optimizer, timesteps=T, batch_size=N, max_epochs=max_epoch, verbose=True)"
   ]
  },
  {
   "cell_type": "markdown",
   "metadata": {},
   "source": [
    "Simply run the following code block to check the loss and accuracy curve."
   ]
  },
  {
   "cell_type": "code",
   "execution_count": 24,
   "metadata": {
    "collapsed": false
   },
   "outputs": [
    {
     "data": {
      "image/png": "[encoded data removed]",
      "text/plain": [
       "<matplotlib.figure.Figure at 0x7fb3364ea080>"
      ]
     },
     "metadata": {},
     "output_type": "display_data"
    }
   ],
   "source": [
    "opt_params, loss_hist, train_acc_hist = results\n",
    "\n",
    "# Plot the learning curves\n",
    "plt.subplot(2, 1, 1)\n",
    "plt.title('Training loss')\n",
    "loss_hist_ = loss_hist[1::100] # sparse the curve a bit\n",
    "plt.plot(loss_hist_, '-o')\n",
    "plt.xlabel('Iteration')\n",
    "\n",
    "plt.subplot(2, 1, 2)\n",
    "plt.title('Accuracy')\n",
    "plt.plot(train_acc_hist, '-o', label='Training')\n",
    "plt.xlabel('Epoch')\n",
    "plt.legend(loc='lower right')\n",
    "plt.gcf().set_size_inches(15, 12)\n",
    "\n",
    "plt.show()"
   ]
  },
  {
   "cell_type": "markdown",
   "metadata": {},
   "source": [
    "Now you can generate a text using the trained model. You can also start from a specific word in the original text. If you trained your model with \"The Fox\", you can check how well it is modeled by starting from \"dog\", \"cat\", etc."
   ]
  },
  {
   "cell_type": "code",
   "execution_count": 25,
   "metadata": {
    "collapsed": false
   },
   "outputs": [
    {
     "name": "stdout",
     "output_type": "stream",
     "text": [
      "suit your line of this dear book that every beating heart in the hundreds of the night revealed themselves, in the forms their dozing eyes and wandering thoughts suggested. tellson’s bank had a surface black, with the message he was raggedly bald, he had eyes that every beating heart in the hundreds of the night revealed themselves, in the forms their dozing eyes and wandering thoughts suggested. tellson’s bank had a surface black, with the message he was raggedly bald, he had eyes that every beating heart in the hundreds of the night revealed themselves, in the forms their dozing\n"
     ]
    }
   ],
   "source": [
    "# you can change the generated text length below.\n",
    "text_length = 100\n",
    "\n",
    "idx = 0\n",
    "# you also can start from specific word. \n",
    "# since the words are all converted into lower case, make sure you put lower case below.\n",
    "idx = int(np.where(np.asarray(word_list) == 'suit')[0])\n",
    "\n",
    "# sample from the trained model\n",
    "words = model.sample(idx, text_length-1)\n",
    "\n",
    "# convert indices into words\n",
    "output = [ word_list[i] for i in words]\n",
    "print(' '.join(output))"
   ]
  },
  {
   "cell_type": "markdown",
   "metadata": {},
   "source": [
    "### Inline Question: Play around with different settings to get better understanding of its behavior and describe your observation. Make sure at least you cover the following points:\n",
    "* Vanilla RNN vs LSTM (you can set different time steps and test with longer texts.)\n",
    "* Problems in these approaches (there's no unique answer. just explain your own opinion from experiments.)\n",
    "#### Ans: Vanilla RNN vs LSTM\n",
    "#### (1) LSTM can model longer dependencies with respect to Vanilla RNN due to its memory units.\n",
    "#### (2) LSTM handles vanishing gradient problem better than Vanilla RNN\n",
    "#### (3) In above problem for shorter timestamps (T=50), LSTM generates much better lyrics than Vanilla RNN. The reason is there are repeating sentences in the lyrics. Due to lack of memory Vanilla RNN tends to produce one sentence multiple times while  LSTM generate pretty good(diverse) results.\n",
    "#### (4) With relative larger text (I took one chapter from gutenberg project), LSTM generates new sentences. ( some words from one sentence others from other sentences) while RNN tends to repeat same sequence of words (sentences) which are present in training data. Although RNN achieves higher accuracies in training (same data, same timestamp, sampe epoch), it is unable to generate new text. \n",
    "\n",
    "### Part 2 Problems in these approaches\n",
    "#### (1) stopwprds ('a','the','and') can create problems with Vanilla RNN. There is a possibility that in our training data 'the' occurs many times before 'President'. In this case there are high chances that Vanilla RNN would produce 'President' whenever it sees 'the'. \n",
    "#### (2) LSTM is able to create new sentences. But, it might create sentences (text) without any meaning. When I run LSTM network with an article. It generated new sentences but only few had coherent meaning. \n",
    "#### (3) Large dataset is needed for good models. As, we have seen LSTM and Vanilla RNN achieves high accuracies with small dataset. But, it unables to generate coherent new text data. It either genereates same text or new text without meaning. "
   ]
  },
  {
   "cell_type": "markdown",
   "metadata": {
    "collapsed": true
   },
   "source": []
  },
  {
   "cell_type": "code",
   "execution_count": null,
   "metadata": {
    "collapsed": true
   },
   "outputs": [],
   "source": []
  }
 ],
 "metadata": {
  "kernelspec": {
   "display_name": "Python 3",
   "language": "python",
   "name": "python3"
  },
  "language_info": {
   "codemirror_mode": {
    "name": "ipython",
    "version": 3
   },
   "file_extension": ".py",
   "mimetype": "text/x-python",
   "name": "python",
   "nbconvert_exporter": "python",
   "pygments_lexer": "ipython3",
   "version": "3.5.0"
  }
 },
 "nbformat": 4,
 "nbformat_minor": 1
}
