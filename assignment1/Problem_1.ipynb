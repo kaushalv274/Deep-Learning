{
 "cells": [
  {
   "cell_type": "markdown",
   "metadata": {},
   "source": [
    "# Problem 1: Basics of Neural Networks\n",
    "* <b>Learning Objective:</b> In the entrance exam, we asked you to implement a K-NN classifier to classify some tiny images extracted from CIFAR-10 dataset. Probably many of you noticed that the performances were quite bad. In this problem, you are going to implement a basic multi-layer fully connected neural network to perform the same classification task.\n",
    "* <b>Provided Code:</b> We provide the skeletons of classes you need to complete. Forward checking and gradient checkings are provided for verifying your implementation as well.\n",
    "* <b>TODOs:</b> You are asked to implement the forward passes and backward passes for standard layers and loss functions, various widely-used optimizers, and part of the training procedure. And finally we want you to train a network from scratch on your own."
   ]
  },
  {
   "cell_type": "code",
   "execution_count": 2,
   "metadata": {
    "collapsed": false
   },
   "outputs": [],
   "source": [
    "from lib.fully_conn import *\n",
    "from lib.layer_utils import *\n",
    "from lib.grad_check import *\n",
    "from lib.datasets import *\n",
    "from lib.optim import *\n",
    "from lib.train import *\n",
    "import numpy as np\n",
    "import matplotlib.pyplot as plt\n",
    "\n",
    "%matplotlib inline\n",
    "plt.rcParams['figure.figsize'] = (10.0, 8.0) # set default size of plots\n",
    "plt.rcParams['image.interpolation'] = 'nearest'\n",
    "plt.rcParams['image.cmap'] = 'gray'\n",
    "\n",
    "# for auto-reloading external modules\n",
    "# see http://stackoverflow.com/questions/1907993/autoreload-of-modules-in-ipython\n",
    "%load_ext autoreload\n",
    "%autoreload 2"
   ]
  },
  {
   "cell_type": "markdown",
   "metadata": {},
   "source": [
    "## Loading the data (CIFAR-10)\n",
    "Run the following code block to load in the properly splitted CIFAR-10 data."
   ]
  },
  {
   "cell_type": "code",
   "execution_count": 3,
   "metadata": {
    "collapsed": false
   },
   "outputs": [
    {
     "name": "stdout",
     "output_type": "stream",
     "text": [
      "Name: data_train Shape: (49000, 3, 32, 32)\n",
      "Name: data_val Shape: (1000, 3, 32, 32)\n",
      "Name: data_test Shape: (1000, 3, 32, 32)\n",
      "Name: labels_train Shape: (49000,)\n",
      "Name: labels_val Shape: (1000,)\n",
      "Name: labels_test Shape: (1000,)\n"
     ]
    }
   ],
   "source": [
    "data = CIFAR10_data()\n",
    "for k, v in data.iteritems():\n",
    "    print \"Name: {} Shape: {}\".format(k, v.shape)"
   ]
  },
  {
   "cell_type": "markdown",
   "metadata": {},
   "source": [
    "## Implement Standard Layers\n",
    "You will now implement all the following standard layers commonly seen in a fully connected neural network. Please refer to the file layer_utils.py under the directory lib. Take a look at each class skeleton, and we will walk you through the network layer by layer. We provide results of some examples we pre-computed for you for checking the forward pass, and also the gradient checking for the backward pass."
   ]
  },
  {
   "cell_type": "markdown",
   "metadata": {},
   "source": [
    "## FC Forward\n",
    "In the class skeleton \"fc\", please complete the forward pass in function \"forward\", the input to the fc layer may not be of dimension (batch size, features size), it could be an image or any higher dimensional data. Make sure that you handle this dimensionality issue. "
   ]
  },
  {
   "cell_type": "code",
   "execution_count": 4,
   "metadata": {
    "collapsed": false
   },
   "outputs": [
    {
     "name": "stdout",
     "output_type": "stream",
     "text": [
      "Difference:  2.48539291792e-09\n"
     ]
    }
   ],
   "source": [
    "# Test the fc forward function\n",
    "input_bz = 3\n",
    "input_dim = (6, 5, 4)\n",
    "output_dim = 4\n",
    "\n",
    "input_size = input_bz * np.prod(input_dim)\n",
    "weight_size = output_dim * np.prod(input_dim)\n",
    "\n",
    "single_fc = fc(np.prod(input_dim), output_dim, init_scale=0.02, name=\"fc_test\")\n",
    "\n",
    "x = np.linspace(-0.1, 0.5, num=input_size).reshape(input_bz, *input_dim)\n",
    "w = np.linspace(-0.2, 0.3, num=weight_size).reshape(np.prod(input_dim), output_dim)\n",
    "b = np.linspace(-0.3, 0.1, num=output_dim)\n",
    "\n",
    "single_fc.params[single_fc.w_name] = w\n",
    "single_fc.params[single_fc.b_name] = b\n",
    "\n",
    "out = single_fc.forward(x)\n",
    "\n",
    "correct_out = np.array([[0.70157129, 0.83483484, 0.96809839, 1.10136194],\n",
    "                        [1.86723094, 2.02561647, 2.18400199, 2.34238752],\n",
    "                        [3.0328906,  3.2163981,  3.3999056,  3.5834131]])\n",
    "\n",
    "# Compare your output with the above pre-computed ones. \n",
    "# The difference should not be larger than 1e-8\n",
    "print \"Difference: \", rel_error(out, correct_out)\n"
   ]
  },
  {
   "cell_type": "markdown",
   "metadata": {},
   "source": [
    "## FC Backward\n",
    "Please complete the function \"backward\" as the backward pass of the fc layer. Follow the instructions in the comments to store gradients into the predefined dictionaries in the attributes of the class. Parameters of the layer are also stored in the predefined dictionary."
   ]
  },
  {
   "cell_type": "code",
   "execution_count": 5,
   "metadata": {
    "collapsed": false
   },
   "outputs": [
    {
     "name": "stdout",
     "output_type": "stream",
     "text": [
      "dx Error:  5.24056438482e-09\n",
      "dw Error:  4.86507245195e-08\n",
      "db Error:  1.89877838905e-10\n"
     ]
    }
   ],
   "source": [
    "# Test the fc backward function\n",
    "x = np.random.randn(10, 2, 2, 3)\n",
    "w = np.random.randn(12, 10)\n",
    "b = np.random.randn(10)\n",
    "dout = np.random.randn(10, 10)\n",
    "\n",
    "single_fc = fc(np.prod(x.shape[1:]), 10, init_scale=5e-2, name=\"fc_test\")\n",
    "single_fc.params[single_fc.w_name] = w\n",
    "single_fc.params[single_fc.b_name] = b\n",
    "\n",
    "dx_num = eval_numerical_gradient_array(lambda x: single_fc.forward(x), x, dout)\n",
    "dw_num = eval_numerical_gradient_array(lambda w: single_fc.forward(x), w, dout)\n",
    "db_num = eval_numerical_gradient_array(lambda b: single_fc.forward(x), b, dout)\n",
    "\n",
    "out = single_fc.forward(x)\n",
    "dx = single_fc.backward(dout)\n",
    "dw = single_fc.grads[single_fc.w_name]\n",
    "db = single_fc.grads[single_fc.b_name]\n",
    "\n",
    "# The error should be around 1e-10\n",
    "print \"dx Error: \", rel_error(dx_num, dx)\n",
    "print \"dw Error: \", rel_error(dw_num, dw)\n",
    "print \"db Error: \", rel_error(db_num, db)                                                                                                                                                                                                                                      \n"
   ]
  },
  {
   "cell_type": "markdown",
   "metadata": {},
   "source": [
    "## ReLU Forward\n",
    "In the class skeleton \"relu\", please complete the forward pass."
   ]
  },
  {
   "cell_type": "code",
   "execution_count": 6,
   "metadata": {
    "collapsed": false
   },
   "outputs": [
    {
     "name": "stdout",
     "output_type": "stream",
     "text": [
      "Difference:  5.00000005012e-09\n"
     ]
    }
   ],
   "source": [
    "# Test the relu forward function\n",
    "x = np.linspace(-1.0, 1.0, num=12).reshape(3, 4)\n",
    "relu_f = relu(name=\"relu_f\")\n",
    "\n",
    "out = relu_f.forward(x)\n",
    "correct_out = np.array([[0.,          0.,        0.,         0.        ],\n",
    "                        [0.,          0.,        0.09090909, 0.27272727],\n",
    "                        [0.45454545, 0.63636364, 0.81818182, 1.        ]])\n",
    "\n",
    "# Compare your output with the above pre-computed ones. \n",
    "# The difference should not be larger than 1e-8\n",
    "print \"Difference: \", rel_error(out, correct_out)"
   ]
  },
  {
   "cell_type": "markdown",
   "metadata": {},
   "source": [
    "## ReLU Backward\n",
    "Please complete the backward pass of the class relu."
   ]
  },
  {
   "cell_type": "code",
   "execution_count": 7,
   "metadata": {
    "collapsed": false
   },
   "outputs": [
    {
     "name": "stdout",
     "output_type": "stream",
     "text": [
      "dx Error:  3.27560327393e-12\n"
     ]
    }
   ],
   "source": [
    "# Test the relu backward function\n",
    "x = np.random.randn(10, 10)\n",
    "dout = np.random.randn(*x.shape)\n",
    "relu_b = relu(name=\"relu_b\")\n",
    "\n",
    "dx_num = eval_numerical_gradient_array(lambda x: relu_b.forward(x), x, dout)\n",
    "\n",
    "out = relu_b.forward(x)\n",
    "dx = relu_b.backward(dout)\n",
    "\n",
    "print \"dx Error: \", rel_error(dx_num, dx)"
   ]
  },
  {
   "cell_type": "markdown",
   "metadata": {},
   "source": [
    "## Dropout Forward\n",
    "In the class \"dropout\", please complete the forward pass. Remember that the dropout is only applied during training phase, you should pay attention to this while implementing the function."
   ]
  },
  {
   "cell_type": "code",
   "execution_count": 8,
   "metadata": {
    "collapsed": false
   },
   "outputs": [
    {
     "name": "stdout",
     "output_type": "stream",
     "text": [
      "----------------------------------------------------------------\n",
      "Dropout p =  0.25\n",
      "Mean of input:  4.99986611924\n",
      "Mean of output during training time:  3.78886001556\n",
      "Mean of output during testing time:  4.99986611924\n",
      "Fraction of output set to zero during training time:  0.2424\n",
      "Fraction of output set to zero during testing time:  0.0\n",
      "----------------------------------------------------------------\n",
      "Dropout p =  0.5\n",
      "Mean of input:  4.99986611924\n",
      "Mean of output during training time:  2.52410419429\n",
      "Mean of output during testing time:  4.99986611924\n",
      "Fraction of output set to zero during training time:  0.4968\n",
      "Fraction of output set to zero during testing time:  0.0\n",
      "----------------------------------------------------------------\n",
      "Dropout p =  0.75\n",
      "Mean of input:  4.99986611924\n",
      "Mean of output during training time:  1.20778762337\n",
      "Mean of output during testing time:  4.99986611924\n",
      "Fraction of output set to zero during training time:  0.7591\n",
      "Fraction of output set to zero during testing time:  0.0\n",
      "----------------------------------------------------------------\n"
     ]
    }
   ],
   "source": [
    "x = np.random.randn(100, 100) + 5.0\n",
    "\n",
    "print \"----------------------------------------------------------------\"\n",
    "for p in [0.25, 0.50, 0.75]:\n",
    "    dropout_f = dropout(p)\n",
    "    out = dropout_f.forward(x, True)\n",
    "    out_test = dropout_f.forward(x, False)\n",
    "\n",
    "    print \"Dropout p = \", p\n",
    "    print \"Mean of input: \", x.mean()\n",
    "    print \"Mean of output during training time: \", out.mean()\n",
    "    print \"Mean of output during testing time: \", out_test.mean()\n",
    "    print \"Fraction of output set to zero during training time: \", (out == 0).mean()\n",
    "    print \"Fraction of output set to zero during testing time: \", (out_test == 0).mean()\n",
    "    print \"----------------------------------------------------------------\""
   ]
  },
  {
   "cell_type": "markdown",
   "metadata": {},
   "source": [
    "## Dropout Backward\n",
    "Please complete the backward pass. Again remember that the dropout is only applied during training phase, handle this in the backward pass as well."
   ]
  },
  {
   "cell_type": "code",
   "execution_count": 14,
   "metadata": {
    "collapsed": false
   },
   "outputs": [
    {
     "name": "stdout",
     "output_type": "stream",
     "text": [
      "dx relative error:  1.89289227358e-11\n"
     ]
    }
   ],
   "source": [
    "x = np.random.randn(5, 5) + 5\n",
    "dout = np.random.randn(*x.shape)\n",
    "\n",
    "p = 0.75\n",
    "dropout_b = dropout(p, seed=100)\n",
    "out = dropout_b.forward(x, True)\n",
    "dx = dropout_b.backward(dout)\n",
    "dx_num = eval_numerical_gradient_array(lambda xx: dropout_b.forward(xx, True), x, dout)\n",
    "\n",
    "# The error should not be larger than 1e-9\n",
    "print 'dx relative error: ', rel_error(dx, dx_num)"
   ]
  },
  {
   "cell_type": "markdown",
   "metadata": {},
   "source": [
    "## Testing cascaded layers: FC + ReLU\n",
    "Please find the TestFCReLU function in fully_conn.py under lib directory. <br />\n",
    "You only need to complete few lines of code in the TODO block. <br />\n",
    "Please design an FC --> ReLU two-layer-mini-network where the parameters of them match the given x, w, and b <br />\n",
    "Please insert the corresponding names you defined for each layer to param_name_w, and param_name_b respectively. <br />\n",
    "Here you only modify the param_name part, the _w, and _b are automatically assigned during network setup "
   ]
  },
  {
   "cell_type": "code",
   "execution_count": 16,
   "metadata": {
    "collapsed": false
   },
   "outputs": [
    {
     "name": "stdout",
     "output_type": "stream",
     "text": [
      "dx error:  9.21074647677e-11\n",
      "dw error:  2.70292486783e-10\n",
      "db error:  7.82666508406e-12\n"
     ]
    }
   ],
   "source": [
    "x = np.random.randn(2, 3, 4)  # the input features\n",
    "w = np.random.randn(12, 10)   # the weight of fc layer\n",
    "b = np.random.randn(10)       # the bias of fc layer\n",
    "dout = np.random.randn(2, 10) # the gradients to the output, notice the shape\n",
    "\n",
    "tiny_net = TestFCReLU()\n",
    "\n",
    "tiny_net.net.assign(\"fc1_w\", w)\n",
    "tiny_net.net.assign(\"fc1_b\", b)\n",
    "\n",
    "out = tiny_net.forward(x)\n",
    "\n",
    "dx = tiny_net.backward(dout)\n",
    "\n",
    "dw = tiny_net.net.get_grads(\"fc1_w\")\n",
    "db = tiny_net.net.get_grads(\"fc1_b\")\n",
    "\n",
    "dx_num = eval_numerical_gradient_array(lambda x: tiny_net.forward(x), x, dout)\n",
    "dw_num = eval_numerical_gradient_array(lambda w: tiny_net.forward(x), w, dout)\n",
    "db_num = eval_numerical_gradient_array(lambda b: tiny_net.forward(x), b, dout)\n",
    "\n",
    "\n",
    "# The errors should not be larger than 1e-7\n",
    "print \"dx error: \", rel_error(dx_num, dx)\n",
    "print \"dw error: \", rel_error(dw_num, dw)\n",
    "print \"db error: \", rel_error(db_num, db)"
   ]
  },
  {
   "cell_type": "markdown",
   "metadata": {},
   "source": [
    "## SoftMax Function and Loss Layer\n",
    "In the layer_utils.py, please first complete the function softmax, which will be use in the function cross_entropy. Please refer to the lecture slides of the mathematical expressions of the cross entropy loss function, and complete its forward pass and backward pass."
   ]
  },
  {
   "cell_type": "code",
   "execution_count": 87,
   "metadata": {
    "collapsed": false
   },
   "outputs": [
    {
     "name": "stdout",
     "output_type": "stream",
     "text": [
      "[0 1 2 4 0 3 1 1 1 0 4 1 2 1 0 4 2 1 4 0 4 0 0 1 2 4 0 2 1 2 2 1 1 3 3 0 3\n",
      " 1 3 0 0 2 2 2 0 3 2 3 3 2]\n",
      "Cross Entropy Loss:  1.6094451862\n",
      "dx error:  3.1744539744e-09\n"
     ]
    }
   ],
   "source": [
    "num_classes, num_inputs = 5, 50\n",
    "x = 0.001 * np.random.randn(num_inputs, num_classes)\n",
    "y = np.random.randint(num_classes, size=num_inputs)\n",
    "\n",
    "test_loss = cross_entropy(False)\n",
    "dx_num = eval_numerical_gradient(lambda x: test_loss.forward(x, y), x, verbose=False)\n",
    "\n",
    "loss = test_loss.forward(x, y)\n",
    "\n",
    "dx = test_loss.backward()\n",
    "\n",
    "\n",
    "# Test softmax_loss function. Loss should be around 1.609\n",
    "# and dx error should be at the scale of 1e-8 (or smaller)\n",
    "print \"Cross Entropy Loss: \", loss\n",
    "print \"dx error: \", rel_error(dx_num, dx)"
   ]
  },
  {
   "cell_type": "markdown",
   "metadata": {},
   "source": [
    "## Test a Small Fully Connected Network\n",
    "Please find the SmallFullyConnectedNetwork function in fully_conn.py under lib directory. <br />\n",
    "Again you only need to complete few lines of code in the TODO block. <br />\n",
    "Please design an FC --> ReLU --> FC --> ReLU network where the shapes of parameters match the given shapes <br />\n",
    "Please insert the corresponding names you defined for each layer to param_name_w, and param_name_b respectively. <br />\n",
    "Here you only modify the param_name part, the _w, and _b are automatically assigned during network setup "
   ]
  },
  {
   "cell_type": "code",
   "execution_count": 63,
   "metadata": {
    "collapsed": false
   },
   "outputs": [
    {
     "name": "stdout",
     "output_type": "stream",
     "text": [
      "Testing initialization ... \n",
      "Passed!\n",
      "Testing test-time forward pass ... \n",
      "Passed!\n",
      "Testing the loss ... Passed!\n",
      "2.90181552716\n",
      "Testing the gradients (error should be no larger than 1e-7) ...\n",
      "fc1_b relative error: 2.85e-09\n",
      "fc1_w relative error: 5.01e-09\n",
      "fc2_b relative error: 4.33e-07\n",
      "fc2_w relative error: 3.03e-09\n"
     ]
    }
   ],
   "source": [
    "model = SmallFullyConnectedNetwork()\n",
    "loss_func = cross_entropy(False)\n",
    "\n",
    "N, D, = 4, 4  # N: batch size, D: input dimension\n",
    "H, C  = 30, 7 # H: hidden dimension, C: output dimension\n",
    "std = 0.02\n",
    "x = np.random.randn(N, D)\n",
    "y = np.random.randint(C, size=N)\n",
    "\n",
    "print \"Testing initialization ... \"\n",
    "w1_std = abs(model.net.get_params(\"fc1_w\").std() - std)\n",
    "b1 = model.net.get_params(\"fc1_b\").std()\n",
    "w2_std = abs(model.net.get_params(\"fc2_w\").std() - std)\n",
    "b2 = model.net.get_params(\"fc2_b\").std()\n",
    "\n",
    "assert w1_std < std / 10, \"First layer weights do not seem right\"\n",
    "assert np.all(b1 == 0), \"First layer biases do not seem right\"\n",
    "assert w2_std < std / 10, \"Second layer weights do not seem right\"\n",
    "assert np.all(b2 == 0), \"Second layer biases do not seem right\"\n",
    "print \"Passed!\"\n",
    "\n",
    "print \"Testing test-time forward pass ... \"\n",
    "w1 = np.linspace(-0.7, 0.3, num=D*H).reshape(D, H)\n",
    "w2 = np.linspace(-0.3, 0.4, num=H*C).reshape(H, C)\n",
    "b1 = np.linspace(-0.1, 0.9, num=H)\n",
    "b2 = np.linspace(-0.9, 0.1, num=C)\n",
    "\n",
    "model.net.assign(\"fc1_w\", w1)\n",
    "model.net.assign(\"fc1_b\", b1)\n",
    "model.net.assign(\"fc2_w\", w2)\n",
    "model.net.assign(\"fc2_b\", b2)\n",
    "\n",
    "feats = np.linspace(-5.5, 4.5, num=N*D).reshape(D, N).T\n",
    "scores = model.forward(feats)\n",
    "correct_scores = np.asarray([[4.20670862, 4.87188359, 5.53705856, 6.20223352, 6.86740849, 7.53258346, 8.19775843],\n",
    "                             [4.74826036, 5.35984681, 5.97143326, 6.58301972, 7.19460617, 7.80619262, 8.41777907],\n",
    "                             [5.2898121,  5.84781003, 6.40580797, 6.96380591, 7.52180384, 8.07980178, 8.63779971],\n",
    "                             [5.83136384, 6.33577326, 6.84018268, 7.3445921,  7.84900151, 8.35341093, 8.85782035]])\n",
    "scores_diff = np.sum(np.abs(scores - correct_scores))\n",
    "assert scores_diff < 1e-6, \"Your implementation might went wrong!\"\n",
    "print \"Passed!\"\n",
    "\n",
    "print \"Testing the loss ...\",\n",
    "y = np.asarray([0, 5, 1, 4])\n",
    "loss = loss_func.forward(scores, y)\n",
    "dLoss = loss_func.backward()\n",
    "correct_loss = 2.90181552716\n",
    "#assert abs(loss - correct_loss) < 1e-10, \"Your implementation might went wrong!\"\n",
    "print \"Passed!\"\n",
    "print loss\n",
    "\n",
    "print \"Testing the gradients (error should be no larger than 1e-7) ...\"\n",
    "din = model.backward(dLoss)\n",
    "for layer in model.net.layers:\n",
    "    if not layer.params:\n",
    "        continue\n",
    "    for name in sorted(layer.grads):\n",
    "        f = lambda _: loss_func.forward(model.forward(feats), y)\n",
    "        grad_num = eval_numerical_gradient(f, layer.params[name], verbose=False)\n",
    "        print '%s relative error: %.2e' % (name, rel_error(grad_num, layer.grads[name]))"
   ]
  },
  {
   "cell_type": "markdown",
   "metadata": {},
   "source": [
    "## Test a Fully Connected Network regularized with Dropout\n",
    "Please find the DropoutNet function in fully_conn.py under lib directory. <br />\n",
    "For this part you don't need to design a new network, just simply run the following test code <br />\n",
    "If something goes wrong, you might want to double check your dropout implementation"
   ]
  },
  {
   "cell_type": "code",
   "execution_count": 28,
   "metadata": {
    "collapsed": false
   },
   "outputs": [
    {
     "name": "stdout",
     "output_type": "stream",
     "text": [
      "Dropout p = 0.0\n",
      "Loss (should be ~2.30) :  2.30163159609\n",
      "Error of gradients should be no larger than 1e-5\n",
      "fc1_b relative error: 5.12993490333e-08\n",
      "fc1_w relative error: 5.93433701922e-06\n",
      "fc2_b relative error: 1.64883855301e-08\n",
      "fc2_w relative error: 8.224367725e-07\n",
      "fc3_b relative error: 1.89851127739e-10\n",
      "fc3_w relative error: 3.33327582748e-07\n",
      "\n",
      "Dropout p = 0.25\n",
      "Loss (should be ~2.30) :  2.30304473214\n",
      "Error of gradients should be no larger than 1e-5\n",
      "fc1_b relative error: 6.81018233706e-08\n",
      "fc1_w relative error: 6.7366664623e-06\n",
      "fc2_b relative error: 1.63151532279e-07\n",
      "fc2_w relative error: 9.59032673256e-06\n",
      "fc3_b relative error: 2.55489337646e-10\n",
      "fc3_w relative error: 5.58166632978e-07\n",
      "\n",
      "Dropout p = 0.5\n",
      "Loss (should be ~2.30) :  2.303191319\n",
      "Error of gradients should be no larger than 1e-5\n",
      "fc1_b relative error: 4.17622265561e-08\n",
      "fc1_w relative error: 8.63912527998e-06\n",
      "fc2_b relative error: 3.11151340248e-08\n",
      "fc2_w relative error: 6.32264720999e-06\n",
      "fc3_b relative error: 2.0759611222e-10\n",
      "fc3_w relative error: 2.50243890254e-07\n",
      "\n"
     ]
    }
   ],
   "source": [
    "N, D, C = 3, 15, 10\n",
    "X = np.random.randn(N, D)\n",
    "y = np.random.randint(C, size=(N,))\n",
    "seed = 123\n",
    "\n",
    "for dropout_p in [0., 0.25, 0.5]:\n",
    "    print \"Dropout p =\", dropout_p\n",
    "    model = DropoutNet(dropout_p=dropout_p, seed=seed)\n",
    "    f\n",
    "    output = model.forward(X, True)\n",
    "    loss = loss_func.forward(output, y)\n",
    "    dLoss = loss_func.backward()\n",
    "    dX = model.backward(dLoss)\n",
    "    grads = model.net.grads\n",
    "    print \"Loss (should be ~2.30) : \", loss\n",
    "\n",
    "    print \"Error of gradients should be no larger than 1e-5\"\n",
    "    for name in sorted(model.net.params):\n",
    "        f = lambda _: loss_func.forward(model.forward(X, True), y)\n",
    "        grad_num = eval_numerical_gradient(f, model.net.params[name], verbose=False, h=1e-5)\n",
    "        print \"{} relative error: {}\".format(name, rel_error(grad_num, grads[name]))\n",
    "    print"
   ]
  },
  {
   "cell_type": "markdown",
   "metadata": {},
   "source": [
    "## Training a Network\n",
    "In this section, we defined a TinyNet class for you to fill in the TODO block in fully_conn.py.\n",
    "* Here please design a two layer fully connected network for this part.\n",
    "* Please read the train.py under lib directory carefully and complete the TODO blocks in the train_net function first.\n",
    "* In addition, read how the SGD function is implemented in optim.py, you will be asked to complete three other optimization methods in the later sections."
   ]
  },
  {
   "cell_type": "code",
   "execution_count": 90,
   "metadata": {
    "collapsed": false
   },
   "outputs": [
    {
     "name": "stdout",
     "output_type": "stream",
     "text": [
      "data_train\n",
      "(49000, 3, 32, 32)\n",
      "data_val\n",
      "(1000, 3, 32, 32)\n",
      "data_test\n",
      "(1000, 3, 32, 32)\n",
      "labels_train\n",
      "(49000,)\n",
      "labels_val\n",
      "(1000,)\n",
      "labels_test\n",
      "(1000,)\n"
     ]
    }
   ],
   "source": [
    "# Arrange the data\n",
    "data_dict = {\n",
    "    \"data_train\": (data[\"data_train\"], data[\"labels_train\"]),\n",
    "    \"data_val\": (data[\"data_val\"], data[\"labels_val\"]),\n",
    "    \"data_test\": (data[\"data_test\"], data[\"labels_test\"])\n",
    "}\n",
    "for k,v in data.iteritems():\n",
    "    print k\n",
    "    print v.shape"
   ]
  },
  {
   "cell_type": "code",
   "execution_count": 97,
   "metadata": {
    "collapsed": false
   },
   "outputs": [],
   "source": [
    "model = TinyNet()\n",
    "loss_f = cross_entropy(False)\n",
    "optimizer = SGD(model.net, 1e-4)"
   ]
  },
  {
   "cell_type": "markdown",
   "metadata": {},
   "source": [
    "### Now train the network to achieve at least 50% validation accuracy"
   ]
  },
  {
   "cell_type": "code",
   "execution_count": 98,
   "metadata": {
    "collapsed": false
   },
   "outputs": [
    {
     "name": "stdout",
     "output_type": "stream",
     "text": [
      "[[  3.90813953e+00   1.93417711e+00   0.00000000e+00   4.28952978e+00\n",
      "    9.06844487e+00   0.00000000e+00   1.02288862e+01   0.00000000e+00\n",
      "    0.00000000e+00   0.00000000e+00]\n",
      " [  4.06838725e+00   0.00000000e+00   8.99400849e+00   3.36840705e+00\n",
      "    5.42803293e+00   0.00000000e+00   9.08212038e+00   0.00000000e+00\n",
      "    0.00000000e+00   0.00000000e+00]\n",
      " [  0.00000000e+00   0.00000000e+00   0.00000000e+00   0.00000000e+00\n",
      "    8.17385200e+00   1.64887389e+00   2.31274315e+00   4.57886569e+00\n",
      "    0.00000000e+00   4.47340606e+00]\n",
      " [  2.47170697e+00   0.00000000e+00   0.00000000e+00   2.39503961e+00\n",
      "    1.66050073e+00   0.00000000e+00   6.72419574e+00   0.00000000e+00\n",
      "    0.00000000e+00   1.25301452e-01]\n",
      " [  0.00000000e+00   0.00000000e+00   0.00000000e+00   2.40599358e+00\n",
      "    0.00000000e+00   0.00000000e+00   4.07147162e-01   5.16189416e+00\n",
      "    0.00000000e+00   4.92417918e-01]\n",
      " [  4.55471527e+00   0.00000000e+00   1.09920127e+00   3.02195835e+00\n",
      "    1.52915530e+00   0.00000000e+00   1.33321145e+01   3.33468940e+00\n",
      "    0.00000000e+00   4.03211223e-01]\n",
      " [  0.00000000e+00   2.39391604e+00   0.00000000e+00   6.87030214e+00\n",
      "    1.53524736e+01   0.00000000e+00   0.00000000e+00   0.00000000e+00\n",
      "    4.09392086e+00   1.18999368e+00]\n",
      " [  2.46487324e-01   0.00000000e+00   0.00000000e+00   1.04632784e+00\n",
      "    1.02899386e+01   0.00000000e+00   7.70613501e+00   0.00000000e+00\n",
      "    1.84928271e-01   3.12594994e+00]\n",
      " [  0.00000000e+00   1.18391972e+00   2.87070041e+00   0.00000000e+00\n",
      "    0.00000000e+00   0.00000000e+00   0.00000000e+00   0.00000000e+00\n",
      "    2.38277834e+00   7.77331334e+00]\n",
      " [  0.00000000e+00   0.00000000e+00   1.55412556e+00   4.11608417e+00\n",
      "    1.13139736e+00   0.00000000e+00   4.15334387e+00   0.00000000e+00\n",
      "    0.00000000e+00   3.79842117e+00]\n",
      " [  1.95363978e-01   0.00000000e+00   1.84701775e+00   2.00995575e+00\n",
      "    0.00000000e+00   0.00000000e+00   3.74272189e+00   2.37586556e+00\n",
      "    0.00000000e+00   9.26422058e-01]\n",
      " [  5.58481730e-01   0.00000000e+00   0.00000000e+00   0.00000000e+00\n",
      "    5.42932535e+00   1.29746953e+00   3.01513698e+00   8.65477078e+00\n",
      "    0.00000000e+00   4.13863855e+00]\n",
      " [  0.00000000e+00   0.00000000e+00   1.73442871e+00   0.00000000e+00\n",
      "    0.00000000e+00   2.30427304e-01   0.00000000e+00   0.00000000e+00\n",
      "    7.92556733e-01   8.36509354e+00]\n",
      " [  5.74787274e+00   0.00000000e+00   3.15597500e+00   7.34973783e-02\n",
      "    0.00000000e+00   0.00000000e+00   1.43923992e+01   5.20933967e+00\n",
      "    0.00000000e+00   5.91681662e+00]\n",
      " [  2.04487854e+00   0.00000000e+00   0.00000000e+00   2.95517598e+00\n",
      "    2.66976981e+00   0.00000000e+00   5.84678948e+00   0.00000000e+00\n",
      "    0.00000000e+00   4.78646348e+00]\n",
      " [  2.36058542e-01   0.00000000e+00   0.00000000e+00   1.67453050e+00\n",
      "    2.61710738e+00   0.00000000e+00   3.77267223e+00   0.00000000e+00\n",
      "    0.00000000e+00   0.00000000e+00]\n",
      " [  0.00000000e+00   0.00000000e+00   0.00000000e+00   3.45734187e+00\n",
      "    5.00522299e+00   0.00000000e+00   3.83622756e+00   0.00000000e+00\n",
      "    0.00000000e+00   5.49947043e+00]\n",
      " [  1.41531408e+00   0.00000000e+00   0.00000000e+00   3.40314599e+00\n",
      "    0.00000000e+00   0.00000000e+00   6.86280782e+00   1.54554945e+00\n",
      "    0.00000000e+00   2.37691237e+00]\n",
      " [  0.00000000e+00   0.00000000e+00   0.00000000e+00   1.47826123e+00\n",
      "    2.26714489e+00   1.78048303e+00   3.89352191e+00   0.00000000e+00\n",
      "    0.00000000e+00   1.88492181e+00]\n",
      " [  3.51521734e+00   1.65226545e+00   1.30350739e+00   0.00000000e+00\n",
      "    5.07930822e+00   0.00000000e+00   4.17194199e+00   0.00000000e+00\n",
      "    0.00000000e+00   1.25451172e+00]\n",
      " [  0.00000000e+00   5.41449255e+00   2.40081826e+00   0.00000000e+00\n",
      "    6.62948075e+00   1.70246234e-01   0.00000000e+00   7.62182991e-02\n",
      "    5.47891985e+00   1.02452401e+01]\n",
      " [  0.00000000e+00   8.38053109e+00   1.39297031e+00   5.17185688e+00\n",
      "    1.52993147e+01   0.00000000e+00   8.50194797e+00   1.78650269e+00\n",
      "    7.94600315e-01   1.01691744e+01]\n",
      " [  3.09508305e+00   0.00000000e+00   2.98593223e+00   1.86521875e+00\n",
      "    0.00000000e+00   0.00000000e+00   6.08470659e+00   3.59043156e+00\n",
      "    0.00000000e+00   0.00000000e+00]\n",
      " [  0.00000000e+00   0.00000000e+00   0.00000000e+00   4.67123986e+00\n",
      "    4.00655262e+00   0.00000000e+00   2.01498566e+00   0.00000000e+00\n",
      "    0.00000000e+00   0.00000000e+00]\n",
      " [  0.00000000e+00   2.78706304e+00   0.00000000e+00   6.34706883e+00\n",
      "    1.71219458e-01   0.00000000e+00   3.85422841e+00   0.00000000e+00\n",
      "    0.00000000e+00   1.87173680e+00]\n",
      " [  7.08528214e-01   0.00000000e+00   0.00000000e+00   1.76887157e+00\n",
      "    7.61240014e+00   1.22977632e-01   3.02514823e+00   0.00000000e+00\n",
      "    0.00000000e+00   2.14816096e+00]\n",
      " [  2.97139451e+00   0.00000000e+00   3.29570380e+00   1.46258288e+00\n",
      "    2.06355608e+00   0.00000000e+00   6.27381817e+00   0.00000000e+00\n",
      "    0.00000000e+00   3.98048132e-01]\n",
      " [  2.31707980e+00   0.00000000e+00   0.00000000e+00   4.24701731e-01\n",
      "    5.06037704e+00   0.00000000e+00   3.06707316e-01   0.00000000e+00\n",
      "    0.00000000e+00   0.00000000e+00]\n",
      " [  4.87231488e+00   0.00000000e+00   0.00000000e+00   0.00000000e+00\n",
      "    5.10296208e+00   0.00000000e+00   2.30041926e+00   0.00000000e+00\n",
      "    0.00000000e+00   0.00000000e+00]\n",
      " [  0.00000000e+00   0.00000000e+00   3.81770347e+00   6.00460573e+00\n",
      "    1.02011051e+01   0.00000000e+00   1.29294343e+00   0.00000000e+00\n",
      "    0.00000000e+00   8.55293903e+00]\n",
      " [  0.00000000e+00   2.32488966e+00   0.00000000e+00   1.99542420e-01\n",
      "    2.19552101e+00   0.00000000e+00   3.47293498e+00   0.00000000e+00\n",
      "    0.00000000e+00   3.60088301e+00]\n",
      " [  0.00000000e+00   0.00000000e+00   0.00000000e+00   0.00000000e+00\n",
      "    3.45637010e+00   0.00000000e+00   0.00000000e+00   4.33026343e+00\n",
      "    0.00000000e+00   2.18302497e+00]\n",
      " [  0.00000000e+00   2.79698417e-01   0.00000000e+00   1.17714347e+00\n",
      "    0.00000000e+00   0.00000000e+00   4.51669182e+00   5.89355440e+00\n",
      "    9.76477183e+00   0.00000000e+00]\n",
      " [  3.56135940e-01   1.78884319e+00   0.00000000e+00   0.00000000e+00\n",
      "    2.31689228e+00   0.00000000e+00   5.35614177e+00   3.52133521e-01\n",
      "    2.00923826e+00   8.29666054e+00]\n",
      " [  0.00000000e+00   5.41548871e-01   0.00000000e+00   1.62920925e+00\n",
      "    6.76761838e+00   0.00000000e+00   5.19518014e+00   0.00000000e+00\n",
      "    0.00000000e+00   5.40521010e+00]\n",
      " [  0.00000000e+00   4.47819347e+00   0.00000000e+00   1.63160145e+00\n",
      "    5.53083268e+00   0.00000000e+00   6.66732809e-01   0.00000000e+00\n",
      "    3.53912024e+00   2.52557938e+00]\n",
      " [  0.00000000e+00   1.49843668e+00   0.00000000e+00   0.00000000e+00\n",
      "    5.78033295e+00   0.00000000e+00   0.00000000e+00   0.00000000e+00\n",
      "    2.73715563e+00   5.71152613e+00]\n",
      " [  9.57885265e-01   0.00000000e+00   0.00000000e+00   3.78115662e-01\n",
      "    0.00000000e+00   0.00000000e+00   1.21572353e+00   4.73779096e-01\n",
      "    0.00000000e+00   0.00000000e+00]\n",
      " [  0.00000000e+00   0.00000000e+00   3.99571143e+00   0.00000000e+00\n",
      "    0.00000000e+00   0.00000000e+00   2.48928629e+00   1.50298275e+01\n",
      "    3.27925568e+00   3.26985294e+00]\n",
      " [  1.39790741e+00   0.00000000e+00   3.25518726e+00   1.15161751e+00\n",
      "    6.31339207e-01   0.00000000e+00   3.95312074e+00   0.00000000e+00\n",
      "    4.13519327e-02   9.96852681e-01]\n",
      " [  3.18725760e+00   0.00000000e+00   0.00000000e+00   0.00000000e+00\n",
      "    5.63427809e+00   0.00000000e+00   1.09234356e+01   0.00000000e+00\n",
      "    0.00000000e+00   2.55880670e+00]\n",
      " [  0.00000000e+00   0.00000000e+00   0.00000000e+00   7.78293107e+00\n",
      "    2.20210745e+01   0.00000000e+00   1.00522819e+01   0.00000000e+00\n",
      "    0.00000000e+00   2.45382290e+00]\n",
      " [  0.00000000e+00   2.24255762e+00   3.49918353e+00   2.38693644e+00\n",
      "    5.30047833e+00   0.00000000e+00   1.02080350e+00   0.00000000e+00\n",
      "    0.00000000e+00   3.24244556e+00]\n",
      " [  0.00000000e+00   8.39666203e-01   2.17153044e+00   4.36958625e+00\n",
      "    4.93091995e+00   0.00000000e+00   0.00000000e+00   0.00000000e+00\n",
      "    0.00000000e+00   3.69886374e+00]\n",
      " [  0.00000000e+00   1.79639443e+00   9.83770400e-01   4.91572264e-01\n",
      "    0.00000000e+00   0.00000000e+00   0.00000000e+00   4.34471469e+00\n",
      "    5.96096462e+00   4.51329676e+00]\n",
      " [  7.98541555e+00   0.00000000e+00   1.68757908e-01   4.41273079e+00\n",
      "    3.34343374e+00   0.00000000e+00   1.48415314e+01   1.37883386e+00\n",
      "    0.00000000e+00   1.56958544e+00]\n",
      " [  1.14136667e-01   0.00000000e+00   1.98941835e+00   3.88995764e+00\n",
      "    6.11180586e+00   0.00000000e+00   1.14686236e+01   0.00000000e+00\n",
      "    0.00000000e+00   0.00000000e+00]\n",
      " [  0.00000000e+00   0.00000000e+00   2.00397351e+00   4.96842144e-01\n",
      "    0.00000000e+00   0.00000000e+00   1.75663792e+00   3.60726393e+00\n",
      "    5.04254996e-01   0.00000000e+00]\n",
      " [  0.00000000e+00   3.74092457e-01   0.00000000e+00   4.19676996e+00\n",
      "    1.28582620e+01   0.00000000e+00   2.02464957e+00   0.00000000e+00\n",
      "    1.75367747e+00   5.06000682e+00]\n",
      " [  0.00000000e+00   3.68186923e+00   0.00000000e+00   0.00000000e+00\n",
      "    1.85758092e+01   0.00000000e+00   0.00000000e+00   0.00000000e+00\n",
      "    1.45292791e+00   1.87766478e+01]\n",
      " [  5.20920861e-01   0.00000000e+00   0.00000000e+00   3.45395512e+00\n",
      "    1.89018733e+00   0.00000000e+00   4.94583703e+00   0.00000000e+00\n",
      "    0.00000000e+00   0.00000000e+00]\n",
      " [  0.00000000e+00   2.14267663e+00   2.10492045e+00   3.03205531e+00\n",
      "    4.52275103e+00   0.00000000e+00   3.87877773e+00   0.00000000e+00\n",
      "    0.00000000e+00   4.23381044e+00]\n",
      " [  1.70468160e-01   0.00000000e+00   0.00000000e+00   2.21018702e+00\n",
      "    5.74646589e+00   0.00000000e+00   6.98801669e-01   0.00000000e+00\n",
      "    1.16841027e+00   0.00000000e+00]\n",
      " [  0.00000000e+00   2.28691189e-01   0.00000000e+00   0.00000000e+00\n",
      "    8.46647209e+00   0.00000000e+00   0.00000000e+00   0.00000000e+00\n",
      "    4.34238878e+00   9.35609762e+00]\n",
      " [  5.28251540e+00   0.00000000e+00   5.49394026e-01   3.48955687e+00\n",
      "    9.38101002e-01   0.00000000e+00   1.07311980e+01   7.71410918e-01\n",
      "    0.00000000e+00   0.00000000e+00]\n",
      " [  1.99810692e+00   0.00000000e+00   0.00000000e+00   0.00000000e+00\n",
      "    1.49816982e+01   0.00000000e+00   1.14103590e+01   0.00000000e+00\n",
      "    0.00000000e+00   0.00000000e+00]\n",
      " [  4.34144253e+00   0.00000000e+00   4.38539576e-01   0.00000000e+00\n",
      "    8.43821587e+00   0.00000000e+00   9.94795612e+00   0.00000000e+00\n",
      "    0.00000000e+00   4.48247082e+00]\n",
      " [  3.54349023e+00   0.00000000e+00   0.00000000e+00   1.07704291e+00\n",
      "    2.15849608e+00   0.00000000e+00   5.19316749e+00   5.06170596e+00\n",
      "    0.00000000e+00   0.00000000e+00]\n",
      " [  0.00000000e+00   1.89993819e+00   0.00000000e+00   2.62833497e+00\n",
      "    3.41521745e+00   0.00000000e+00   4.54062272e+00   0.00000000e+00\n",
      "    1.45958824e+00   2.64153097e+00]\n",
      " [  0.00000000e+00   0.00000000e+00   0.00000000e+00   3.23140349e+00\n",
      "    1.76113395e+00   0.00000000e+00   3.72409703e+00   0.00000000e+00\n",
      "    0.00000000e+00   9.96987497e+00]\n",
      " [  0.00000000e+00   0.00000000e+00   0.00000000e+00   1.95704333e+00\n",
      "    5.56480911e+00   0.00000000e+00   1.20711045e+01   1.44068950e+01\n",
      "    1.91965878e+00   7.36887232e-01]\n",
      " [  2.37391066e+00   0.00000000e+00   4.46417161e+00   9.35832679e-02\n",
      "    7.05139876e+00   1.33813584e+00   8.38079896e+00   0.00000000e+00\n",
      "    0.00000000e+00   1.36797126e+00]\n",
      " [  3.91455395e+00   0.00000000e+00   2.82517333e+00   0.00000000e+00\n",
      "    0.00000000e+00   0.00000000e+00   2.26452388e+00   0.00000000e+00\n",
      "    0.00000000e+00   0.00000000e+00]\n",
      " [  2.00193828e+00   0.00000000e+00   5.89983792e-01   0.00000000e+00\n",
      "    4.80809126e-01   0.00000000e+00   2.32249390e+00   1.91106086e+00\n",
      "    0.00000000e+00   0.00000000e+00]\n",
      " [  4.04221333e+00   0.00000000e+00   1.66155497e+00   2.35582418e-01\n",
      "    2.48598673e+00   0.00000000e+00   1.02312562e+01   2.03455386e+00\n",
      "    0.00000000e+00   0.00000000e+00]\n",
      " [  0.00000000e+00   0.00000000e+00   4.91613980e-01   3.83915847e+00\n",
      "    7.91774573e-01   0.00000000e+00   6.24366874e+00   0.00000000e+00\n",
      "    2.36917697e+00   9.28144302e+00]\n",
      " [  0.00000000e+00   7.68460233e-01   0.00000000e+00   6.31597934e+00\n",
      "    5.76793504e+00   0.00000000e+00   2.82965221e+00   0.00000000e+00\n",
      "    0.00000000e+00   0.00000000e+00]\n",
      " [  0.00000000e+00   2.15217033e+00   0.00000000e+00   0.00000000e+00\n",
      "    7.03757067e+00   4.02687145e+00   1.72768503e+00   0.00000000e+00\n",
      "    3.89350815e-01   8.36762021e+00]\n",
      " [  3.04349883e+00   0.00000000e+00   3.73709187e-01   1.84516213e+00\n",
      "    7.05939840e-01   0.00000000e+00   4.66826404e+00   2.94637519e+00\n",
      "    0.00000000e+00   0.00000000e+00]\n",
      " [  0.00000000e+00   0.00000000e+00   0.00000000e+00   0.00000000e+00\n",
      "    1.33767179e+00   0.00000000e+00   0.00000000e+00   1.33796718e+00\n",
      "    5.20287236e-01   2.06485739e+00]\n",
      " [  0.00000000e+00   7.91336857e-02   2.76167254e+00   1.70000974e+00\n",
      "    0.00000000e+00   0.00000000e+00   6.17094362e-03   0.00000000e+00\n",
      "    0.00000000e+00   0.00000000e+00]\n",
      " [  5.25716145e+00   0.00000000e+00   0.00000000e+00   1.17390467e+00\n",
      "    2.76396215e+00   0.00000000e+00   8.79217154e+00   2.67138119e-01\n",
      "    0.00000000e+00   0.00000000e+00]\n",
      " [  2.87406933e+00   0.00000000e+00   1.14279932e+00   3.69487890e+00\n",
      "    5.85679649e+00   0.00000000e+00   9.03317497e+00   0.00000000e+00\n",
      "    0.00000000e+00   6.09928310e+00]\n",
      " [  1.90419634e+00   0.00000000e+00   6.84447885e-01   2.24447904e+00\n",
      "    2.39655153e+00   0.00000000e+00   6.61452833e+00   0.00000000e+00\n",
      "    0.00000000e+00   4.56770654e-01]\n",
      " [  0.00000000e+00   3.61684113e-02   3.93503104e+00   5.75662507e+00\n",
      "    1.02879600e+01   0.00000000e+00   0.00000000e+00   0.00000000e+00\n",
      "    0.00000000e+00   1.19855064e-01]\n",
      " [  0.00000000e+00   0.00000000e+00   2.01156974e+00   5.77449455e-01\n",
      "    8.36532843e-01   0.00000000e+00   7.98955705e+00   0.00000000e+00\n",
      "    0.00000000e+00   2.64650768e+00]\n",
      " [  7.59958368e-01   0.00000000e+00   2.62890010e+00   0.00000000e+00\n",
      "    2.15281059e+00   0.00000000e+00   4.05233272e+00   0.00000000e+00\n",
      "    0.00000000e+00   1.39750324e+00]\n",
      " [  7.52384431e-01   0.00000000e+00   0.00000000e+00   8.39808576e-01\n",
      "    5.75383830e-01   0.00000000e+00   8.06487500e+00   7.88951944e+00\n",
      "    3.15797644e-01   0.00000000e+00]\n",
      " [  7.44697407e-01   0.00000000e+00   0.00000000e+00   2.29072678e+00\n",
      "    5.06606353e+00   0.00000000e+00   9.40862154e+00   0.00000000e+00\n",
      "    0.00000000e+00   2.85940157e+00]\n",
      " [  0.00000000e+00   3.63066607e+00   0.00000000e+00   0.00000000e+00\n",
      "    1.60605779e+01   0.00000000e+00   3.53338536e+00   0.00000000e+00\n",
      "    1.36533924e+00   8.51743663e+00]\n",
      " [  1.35953866e+00   0.00000000e+00   0.00000000e+00   2.47220496e+00\n",
      "    3.20609862e+00   0.00000000e+00   2.53022170e+00   0.00000000e+00\n",
      "    8.05462856e-01   9.69097162e-01]\n",
      " [  1.05207698e+00   0.00000000e+00   0.00000000e+00   2.96203308e+00\n",
      "    3.67550036e+00   0.00000000e+00   5.65285326e+00   0.00000000e+00\n",
      "    0.00000000e+00   5.30797609e-01]\n",
      " [  0.00000000e+00   1.27937908e+00   1.04741487e+00   2.60057152e+00\n",
      "    0.00000000e+00   0.00000000e+00   2.17241021e+00   3.15124978e+00\n",
      "    2.39708976e+00   2.92450442e+00]\n",
      " [  0.00000000e+00   0.00000000e+00   7.75878799e+00   0.00000000e+00\n",
      "    0.00000000e+00   0.00000000e+00   2.19461600e+00   0.00000000e+00\n",
      "    0.00000000e+00   1.12203089e+01]\n",
      " [  1.06850988e+00   0.00000000e+00   0.00000000e+00   1.96111810e+00\n",
      "    9.75016189e+00   0.00000000e+00   3.96236088e+00   2.25311483e-01\n",
      "    7.21740418e-01   5.87789655e-01]\n",
      " [  4.58860237e+00   0.00000000e+00   0.00000000e+00   2.10774807e+00\n",
      "    0.00000000e+00   0.00000000e+00   9.36239291e+00   5.04644918e+00\n",
      "    0.00000000e+00   0.00000000e+00]\n",
      " [  1.29736498e+00   4.53123120e-01   0.00000000e+00   1.61239150e-01\n",
      "    2.73484613e+00   0.00000000e+00   4.13843903e+00   0.00000000e+00\n",
      "    1.00655011e+00   5.87228553e-01]\n",
      " [  0.00000000e+00   1.69299517e+00   5.14602249e-02   1.07380460e+00\n",
      "    4.98754505e+00   0.00000000e+00   2.70187971e+00   0.00000000e+00\n",
      "    3.13951396e+00   4.01430972e+00]\n",
      " [  2.74602039e+00   0.00000000e+00   0.00000000e+00   3.26333036e+00\n",
      "    6.08483824e+00   0.00000000e+00   4.38890468e+00   3.43079026e+00\n",
      "    1.26833066e-01   0.00000000e+00]\n",
      " [  6.99455603e-01   0.00000000e+00   1.43859070e+00   1.26375982e+00\n",
      "    3.20880046e+00   0.00000000e+00   1.02087597e+00   0.00000000e+00\n",
      "    0.00000000e+00   3.72566807e+00]\n",
      " [  7.00902524e-01   0.00000000e+00   3.59307727e+00   1.21135339e+00\n",
      "    4.06693646e+00   6.19868681e-01   1.88527455e+00   0.00000000e+00\n",
      "    0.00000000e+00   1.07939102e+00]\n",
      " [  9.27350887e-01   0.00000000e+00   3.34457078e+00   8.74582930e-01\n",
      "    0.00000000e+00   0.00000000e+00   2.07686615e+00   2.42141666e+00\n",
      "    1.16807372e+00   9.22290783e-01]\n",
      " [  8.84497521e-01   6.41992809e-02   0.00000000e+00   0.00000000e+00\n",
      "    3.99386126e+00   1.75186207e+00   1.24475060e+00   0.00000000e+00\n",
      "    0.00000000e+00   6.24639254e+00]\n",
      " [  0.00000000e+00   0.00000000e+00   0.00000000e+00   1.71101783e+00\n",
      "    0.00000000e+00   0.00000000e+00   2.59368689e+00   2.66880110e+00\n",
      "    0.00000000e+00   0.00000000e+00]\n",
      " [  8.20960116e-03   0.00000000e+00   7.93456117e-01   0.00000000e+00\n",
      "    1.32114260e+00   4.08279786e-01   4.52205359e+00   9.78390625e-01\n",
      "    1.14338773e-01   7.40552779e+00]\n",
      " [  0.00000000e+00   0.00000000e+00   0.00000000e+00   2.80449988e+00\n",
      "    1.27848123e+01   0.00000000e+00   5.92999129e+00   0.00000000e+00\n",
      "    4.22111410e+00   4.46990377e+00]\n",
      " [  2.11330805e+00   0.00000000e+00   0.00000000e+00   0.00000000e+00\n",
      "    1.35737666e-01   0.00000000e+00   8.17533672e+00   8.59361085e+00\n",
      "    0.00000000e+00   0.00000000e+00]\n",
      " [  4.64841568e+00   0.00000000e+00   5.94252640e+00   0.00000000e+00\n",
      "    2.86118725e+00   0.00000000e+00   4.60301070e+00   2.70387805e+00\n",
      "    0.00000000e+00   0.00000000e+00]\n",
      " [  0.00000000e+00   1.35452837e+00   0.00000000e+00   3.36296456e+00\n",
      "    1.42836962e+00   0.00000000e+00   2.71638349e+00   0.00000000e+00\n",
      "    3.19812415e+00   5.55596252e+00]\n",
      " [  5.00874807e+00   0.00000000e+00   0.00000000e+00   6.02755565e-02\n",
      "    3.89867039e+00   0.00000000e+00   3.00436665e+00   0.00000000e+00\n",
      "    0.00000000e+00   0.00000000e+00]]\n",
      "6.14174457283\n",
      "(Iteration 1 / 490) loss: 6.14174457283\n",
      "(Iteration 11 / 490) loss: 4.28414632788\n",
      "(Iteration 21 / 490) loss: 3.81775371699\n",
      "(Iteration 31 / 490) loss: 3.02491052227\n",
      "(Iteration 41 / 490) loss: 2.84057554686\n",
      "(Iteration 51 / 490) loss: 2.58342005356\n",
      "(Iteration 61 / 490) loss: 2.64085806019\n",
      "(Iteration 71 / 490) loss: 2.52688758287\n",
      "(Iteration 81 / 490) loss: 2.4113609796\n",
      "(Iteration 91 / 490) loss: 2.36629434994\n",
      "(Iteration 101 / 490) loss: 2.34308861595\n",
      "(Iteration 111 / 490) loss: 2.40071442468\n",
      "(Iteration 121 / 490) loss: 2.3811143442\n",
      "(Iteration 131 / 490) loss: 2.20124505077\n",
      "(Iteration 141 / 490) loss: 2.28802283264\n",
      "(Iteration 151 / 490) loss: 2.22842578614\n",
      "(Iteration 161 / 490) loss: 2.38200436247\n",
      "(Iteration 171 / 490) loss: 2.30752853875\n",
      "(Iteration 181 / 490) loss: 2.32848588385\n",
      "(Iteration 191 / 490) loss: 2.24636873246\n",
      "(Iteration 201 / 490) loss: 2.39530083841\n",
      "(Iteration 211 / 490) loss: 2.31422446754\n",
      "(Iteration 221 / 490) loss: 2.3171972918\n",
      "(Iteration 231 / 490) loss: 2.23724663739\n",
      "(Iteration 241 / 490) loss: 2.26241483498\n",
      "(Iteration 251 / 490) loss: 2.23549473092\n",
      "(Iteration 261 / 490) loss: 2.21414201293\n",
      "(Iteration 271 / 490) loss: 2.31508702332\n",
      "(Iteration 281 / 490) loss: 2.29320452832\n",
      "(Iteration 291 / 490) loss: 2.21178224175\n",
      "(Iteration 301 / 490) loss: 2.24975029362\n",
      "(Iteration 311 / 490) loss: 2.27935660433\n",
      "(Iteration 321 / 490) loss: 2.18812268457\n",
      "(Iteration 331 / 490) loss: 2.25982195228\n",
      "(Iteration 341 / 490) loss: 2.22011185447\n",
      "(Iteration 351 / 490) loss: 2.22978582568\n",
      "(Iteration 361 / 490) loss: 2.28574940799\n",
      "(Iteration 371 / 490) loss: 2.21637791975\n",
      "(Iteration 381 / 490) loss: 2.23242266879\n",
      "(Iteration 391 / 490) loss: 2.06565457672\n",
      "(Iteration 401 / 490) loss: 2.20709894004\n",
      "(Iteration 411 / 490) loss: 2.35334316861\n",
      "(Iteration 421 / 490) loss: 2.21440512717\n",
      "(Iteration 431 / 490) loss: 2.17490902536\n",
      "(Iteration 441 / 490) loss: 2.18865518441\n",
      "(Iteration 451 / 490) loss: 2.19403740386\n",
      "(Iteration 461 / 490) loss: 2.21993491229\n",
      "(Iteration 471 / 490) loss: 2.20617881871\n",
      "(Iteration 481 / 490) loss: 2.22762883825\n",
      "(Epoch 1 / 1) Training Accuracy: 0.177510204082, Validation Accuracy: 0.2\n"
     ]
    }
   ],
   "source": [
    "results = None\n",
    "#############################################################################\n",
    "# TODO: Use the train_net function you completed to train a network         #\n",
    "#############################################################################\n",
    "w1 = np.linspace(-0.0007, 0.0003, num=3072*512).reshape(3072, 512)\n",
    "w2 = np.linspace(-0.0003, 0.0004, num=512*10).reshape(512, 10)\n",
    "b1 = np.linspace(-0.0001, 0.0009, num=1*512).reshape(1,512)\n",
    "b2 = np.linspace(-0.0009, 0.0001, num=1*10).reshape(1,10)\n",
    "\n",
    "\n",
    "model.net.assign(\"fc1_w\", w1)\n",
    "model.net.assign(\"fc1_b\", b1)\n",
    "model.net.assign(\"fc2_w\", w2)\n",
    "model.net.assign(\"fc2_b\", b2)\n",
    "\n",
    "results = train_net(data_dict, model, loss_f, optimizer, 100, 1, verbose=True)\n",
    "#############################################################################\n",
    "#                             END OF YOUR CODE                              #\n",
    "#############################################################################\n",
    "opt_params, loss_hist, train_acc_hist, val_acc_hist = results"
   ]
  },
  {
   "cell_type": "code",
   "execution_count": 75,
   "metadata": {
    "collapsed": false
   },
   "outputs": [
    {
     "ename": "NameError",
     "evalue": "name 'opt_params' is not defined",
     "output_type": "error",
     "traceback": [
      "\u001b[1;31m---------------------------------------------------------------------------\u001b[0m",
      "\u001b[1;31mNameError\u001b[0m                                 Traceback (most recent call last)",
      "\u001b[1;32m<ipython-input-75-20d677eb07f9>\u001b[0m in \u001b[0;36m<module>\u001b[1;34m()\u001b[0m\n\u001b[0;32m      1\u001b[0m \u001b[1;31m# Take a look at what names of params were stored\u001b[0m\u001b[1;33m\u001b[0m\u001b[1;33m\u001b[0m\u001b[0m\n\u001b[1;32m----> 2\u001b[1;33m \u001b[1;32mprint\u001b[0m \u001b[0mopt_params\u001b[0m\u001b[1;33m.\u001b[0m\u001b[0mkeys\u001b[0m\u001b[1;33m(\u001b[0m\u001b[1;33m)\u001b[0m\u001b[1;33m\u001b[0m\u001b[0m\n\u001b[0m",
      "\u001b[1;31mNameError\u001b[0m: name 'opt_params' is not defined"
     ]
    }
   ],
   "source": [
    "# Take a look at what names of params were stored\n",
    "print opt_params.keys()"
   ]
  },
  {
   "cell_type": "code",
   "execution_count": null,
   "metadata": {
    "collapsed": false
   },
   "outputs": [],
   "source": [
    "# Demo: How to load the parameters to a newly defined network\n",
    "model = TinyNet()\n",
    "model.net.load(opt_params)\n",
    "val_acc = compute_acc(model, data[\"data_val\"], data[\"labels_val\"])\n",
    "print \"Validation Accuracy: {}%\".format(val_acc*100)\n",
    "test_acc = compute_acc(model, data[\"data_test\"], data[\"labels_test\"])\n",
    "print \"Testing Accuracy: {}%\".format(test_acc*100)"
   ]
  },
  {
   "cell_type": "code",
   "execution_count": null,
   "metadata": {
    "collapsed": false
   },
   "outputs": [],
   "source": [
    "# Plot the learning curves\n",
    "plt.subplot(2, 1, 1)\n",
    "plt.title('Training loss')\n",
    "loss_hist_ = loss_hist[1::100] # sparse the curve a bit\n",
    "plt.plot(loss_hist_, '-o')\n",
    "plt.xlabel('Iteration')\n",
    "\n",
    "plt.subplot(2, 1, 2)\n",
    "plt.title('Accuracy')\n",
    "plt.plot(train_acc_hist, '-o', label='Training')\n",
    "plt.plot(val_acc_hist, '-o', label='Validation')\n",
    "plt.plot([0.5] * len(val_acc_hist), 'k--')\n",
    "plt.xlabel('Epoch')\n",
    "plt.legend(loc='lower right')\n",
    "plt.gcf().set_size_inches(15, 12)\n",
    "plt.show()"
   ]
  },
  {
   "cell_type": "markdown",
   "metadata": {},
   "source": [
    "## Different Optimizers\n",
    "There are several more advanced optimizers than vanilla SGD, you will implement three more sophisticated and widely-used methods in this section. Please complete the TODOs in the optim.py under lib directory."
   ]
  },
  {
   "cell_type": "markdown",
   "metadata": {},
   "source": [
    "## SGD + Momentum\n",
    "The update rule of SGD plus momentum is as shown below: <br\\ >\n",
    "\\begin{equation}\n",
    "v_t: velocity \\\\\n",
    "\\gamma: momentum \\\\\n",
    "\\eta: learning\\ rate \\\\\n",
    "v_t = \\gamma v_{t-1} + \\eta \\nabla_{\\theta}J(\\theta) \\\\\n",
    "\\theta = \\theta - v_t\n",
    "\\end{equation}\n",
    "Complete the SGDM() function in optim.py"
   ]
  },
  {
   "cell_type": "code",
   "execution_count": null,
   "metadata": {
    "collapsed": true
   },
   "outputs": [],
   "source": [
    "# SGD with momentum\n",
    "model = TinyNet()\n",
    "loss_f = cross_entropy()\n",
    "optimizer = SGD(model.net, 1e-4)"
   ]
  },
  {
   "cell_type": "code",
   "execution_count": null,
   "metadata": {
    "collapsed": false
   },
   "outputs": [],
   "source": [
    "# Test the implementation of SGD with Momentum\n",
    "N, D = 4, 5\n",
    "test_sgd = sequential(fc(N, D, name=\"sgd_fc\"))\n",
    "\n",
    "w = np.linspace(-0.4, 0.6, num=N*D).reshape(N, D)\n",
    "dw = np.linspace(-0.6, 0.4, num=N*D).reshape(N, D)\n",
    "v = np.linspace(0.6, 0.9, num=N*D).reshape(N, D)\n",
    "\n",
    "test_sgd.layers[0].params = {\"sgd_fc_w\": w}\n",
    "test_sgd.layers[0].grads = {\"sgd_fc_w\": dw}\n",
    "\n",
    "test_sgd_momentum = SGDM(test_sgd, 1e-3, 0.9)\n",
    "test_sgd_momentum.velocity = {\"sgd_fc_w\": v}\n",
    "test_sgd_momentum.step()\n",
    "\n",
    "updated_w = test_sgd.layers[0].params[\"sgd_fc_w\"]\n",
    "velocity = test_sgd_momentum.velocity[\"sgd_fc_w\"]\n",
    "\n",
    "expected_updated_w = np.asarray([\n",
    "  [ 0.1406,      0.20738947,  0.27417895,  0.34096842,  0.40775789],\n",
    "  [ 0.47454737,  0.54133684,  0.60812632,  0.67491579,  0.74170526],\n",
    "  [ 0.80849474,  0.87528421,  0.94207368,  1.00886316,  1.07565263],\n",
    "  [ 1.14244211,  1.20923158,  1.27602105,  1.34281053,  1.4096    ]])\n",
    "expected_velocity = np.asarray([\n",
    "  [ 0.5406,      0.55475789,  0.56891579, 0.58307368,  0.59723158],\n",
    "  [ 0.61138947,  0.62554737,  0.63970526,  0.65386316,  0.66802105],\n",
    "  [ 0.68217895,  0.69633684,  0.71049474,  0.72465263,  0.73881053],\n",
    "  [ 0.75296842,  0.76712632,  0.78128421,  0.79544211,  0.8096    ]])\n",
    "\n",
    "print 'updated_w error: ', rel_error(updated_w, expected_updated_w)\n",
    "print 'velocity error: ', rel_error(expected_velocity, velocity)"
   ]
  },
  {
   "cell_type": "markdown",
   "metadata": {},
   "source": [
    "Run the following code block to train a multi-layer fully connected network with both SGD and SGD plus Momentum. The network trained with SGDM optimizer should converge faster."
   ]
  },
  {
   "cell_type": "code",
   "execution_count": null,
   "metadata": {
    "collapsed": false,
    "scrolled": false
   },
   "outputs": [],
   "source": [
    "# Arrange a small data\n",
    "num_train = 4000\n",
    "small_data_dict = {\n",
    "    \"data_train\": (data[\"data_train\"][:num_train], data[\"labels_train\"][:num_train]),\n",
    "    \"data_val\": (data[\"data_val\"], data[\"labels_val\"]),\n",
    "    \"data_test\": (data[\"data_test\"], data[\"labels_test\"])\n",
    "}\n",
    "\n",
    "model_sgd      = FullyConnectedNetwork()\n",
    "model_sgdm     = FullyConnectedNetwork()\n",
    "loss_f_sgd     = cross_entropy()\n",
    "loss_f_sgdm    = cross_entropy()\n",
    "optimizer_sgd  = SGD(model_sgd.net, 1e-2)\n",
    "optimizer_sgdm = SGDM(model_sgdm.net, 1e-2, 0.9)\n",
    "\n",
    "print \"Training with Vanilla SGD...\"\n",
    "results_sgd = train_net(small_data_dict, model_sgd, loss_f_sgd, optimizer_sgd, batch_size=100, \n",
    "                        max_epochs=5, show_every=100, verbose=True)\n",
    "\n",
    "print \"\\nTraining with SGD plus Momentum...\"\n",
    "results_sgdm = train_net(small_data_dict, model_sgdm, loss_f_sgdm, optimizer_sgdm, batch_size=100, \n",
    "                         max_epochs=5, show_every=100, verbose=True)\n",
    "\n",
    "opt_params_sgd,  loss_hist_sgd,  train_acc_hist_sgd,  val_acc_hist_sgd  = results_sgd\n",
    "opt_params_sgdm, loss_hist_sgdm, train_acc_hist_sgdm, val_acc_hist_sgdm = results_sgdm\n",
    "\n",
    "plt.subplot(3, 1, 1)\n",
    "plt.title('Training loss')\n",
    "plt.xlabel('Iteration')\n",
    "\n",
    "plt.subplot(3, 1, 2)\n",
    "plt.title('Training accuracy')\n",
    "plt.xlabel('Epoch')\n",
    "\n",
    "plt.subplot(3, 1, 3)\n",
    "plt.title('Validation accuracy')\n",
    "plt.xlabel('Epoch')\n",
    "\n",
    "plt.subplot(3, 1, 1)\n",
    "plt.plot(loss_hist_sgd, 'o', label=\"Vanilla SGD\")\n",
    "plt.subplot(3, 1, 2)\n",
    "plt.plot(train_acc_hist_sgd, '-o', label=\"Vanilla SGD\")\n",
    "plt.subplot(3, 1, 3)\n",
    "plt.plot(val_acc_hist_sgd, '-o', label=\"Vanilla SGD\")\n",
    "         \n",
    "plt.subplot(3, 1, 1)\n",
    "plt.plot(loss_hist_sgdm, 'o', label=\"SGD with Momentum\")\n",
    "plt.subplot(3, 1, 2)\n",
    "plt.plot(train_acc_hist_sgdm, '-o', label=\"SGD with Momentum\")\n",
    "plt.subplot(3, 1, 3)\n",
    "plt.plot(val_acc_hist_sgdm, '-o', label=\"SGD with Momentum\")\n",
    "  \n",
    "for i in [1, 2, 3]:\n",
    "  plt.subplot(3, 1, i)\n",
    "  plt.legend(loc='upper center', ncol=4)\n",
    "plt.gcf().set_size_inches(15, 15)\n",
    "plt.show()"
   ]
  },
  {
   "cell_type": "markdown",
   "metadata": {},
   "source": [
    "## RMSProp\n",
    "The update rule of RMSProp is as shown below: <br\\ >\n",
    "\\begin{equation}\n",
    "\\gamma: decay\\ rate \\\\\n",
    "\\epsilon: small\\ number \\\\\n",
    "g_t^2: squared\\ gradients \\\\\n",
    "\\eta: learning\\ rate \\\\\n",
    "E[g^2]_t: decaying\\ average\\ of\\ past\\ squared\\ gradients\\ at\\ update\\ step\\ t \\\\\n",
    "E[g^2]_t = \\gamma E[g^2]_{t-1} + (1-\\gamma)g_t^2 \\\\\n",
    "\\theta_{t+1} = \\theta_t - \\frac{\\eta}{\\sqrt{E[g^2]_t+\\epsilon}}\n",
    "\\end{equation}\n",
    "Complete the RMSProp() function in optim.py"
   ]
  },
  {
   "cell_type": "code",
   "execution_count": null,
   "metadata": {
    "collapsed": false
   },
   "outputs": [],
   "source": [
    "# Test RMSProp implementation; you should see errors less than 1e-7\n",
    "N, D = 4, 5\n",
    "test_rms = sequential(fc(N, D, name=\"rms_fc\"))\n",
    "\n",
    "w = np.linspace(-0.4, 0.6, num=N*D).reshape(N, D)\n",
    "dw = np.linspace(-0.6, 0.4, num=N*D).reshape(N, D)\n",
    "cache = np.linspace(0.6, 0.9, num=N*D).reshape(N, D)\n",
    "\n",
    "test_rms.layers[0].params = {\"rms_fc_w\": w}\n",
    "test_rms.layers[0].grads = {\"rms_fc_w\": dw}\n",
    "\n",
    "opt_rms = RMSProp(test_rms, 1e-2, 0.99)\n",
    "opt_rms.cache = {\"rms_fc_w\": cache}\n",
    "opt_rms.step()\n",
    "\n",
    "updated_w = test_rms.layers[0].params[\"rms_fc_w\"]\n",
    "cache = opt_rms.cache[\"rms_fc_w\"]\n",
    "\n",
    "expected_updated_w = np.asarray([\n",
    "  [-0.39223849, -0.34037513, -0.28849239, -0.23659121, -0.18467247],\n",
    "  [-0.132737,   -0.08078555, -0.02881884,  0.02316247,  0.07515774],\n",
    "  [ 0.12716641,  0.17918792,  0.23122175,  0.28326742,  0.33532447],\n",
    "  [ 0.38739248,  0.43947102,  0.49155973,  0.54365823,  0.59576619]])\n",
    "expected_cache = np.asarray([\n",
    "  [ 0.5976,      0.6126277,   0.6277108,   0.64284931,  0.65804321],\n",
    "  [ 0.67329252,  0.68859723,  0.70395734,  0.71937285,  0.73484377],\n",
    "  [ 0.75037008,  0.7659518,   0.78158892,  0.79728144,  0.81302936],\n",
    "  [ 0.82883269,  0.84469141,  0.86060554,  0.87657507,  0.8926    ]])\n",
    "\n",
    "print 'updated_w error: ', rel_error(expected_updated_w, updated_w)\n",
    "print 'cache error: ', rel_error(expected_cache, opt_rms.cache[\"rms_fc_w\"])"
   ]
  },
  {
   "cell_type": "markdown",
   "metadata": {},
   "source": [
    "## Adam\n",
    "The update rule of Adam is as shown below: <br\\ >\n",
    "\\begin{equation}\n",
    "g_t: gradients\\ at\\ update\\ step\\ t \\\\\n",
    "m_t = \\beta_1m_{t-1} + (1-\\beta_1)g_t \\\\\n",
    "v_t = \\beta_2v_{t-1} + (1-\\beta_1)g_t^2 \\\\\n",
    "\\hat{m_t}: bias\\ corrected\\ m_t \\\\\n",
    "\\hat{v_t}: bias\\ corrected\\ v_t \\\\\n",
    "\\theta_{t+1} = \\theta_t - \\frac{\\eta}{\\sqrt{\\hat{v_t}}+\\epsilon}\n",
    "\\end{equation}\n",
    "Complete the Adam() function in optim.py"
   ]
  },
  {
   "cell_type": "code",
   "execution_count": null,
   "metadata": {
    "collapsed": false
   },
   "outputs": [],
   "source": [
    "# Test Adam implementation; you should see errors around 1e-7 or less\n",
    "N, D = 4, 5\n",
    "test_adam = sequential(fc(N, D, name=\"adam_fc\"))\n",
    "\n",
    "w = np.linspace(-0.4, 0.6, num=N*D).reshape(N, D)\n",
    "dw = np.linspace(-0.6, 0.4, num=N*D).reshape(N, D)\n",
    "m = np.linspace(0.6, 0.9, num=N*D).reshape(N, D)\n",
    "v = np.linspace(0.7, 0.5, num=N*D).reshape(N, D)\n",
    "\n",
    "test_adam.layers[0].params = {\"adam_fc_w\": w}\n",
    "test_adam.layers[0].grads = {\"adam_fc_w\": dw}\n",
    "\n",
    "opt_adam = Adam(test_adam, 1e-2, 0.9, 0.999, t=5)\n",
    "opt_adam.mt = {\"adam_fc_w\": m}\n",
    "opt_adam.vt = {\"adam_fc_w\": v}\n",
    "opt_adam.step()\n",
    "\n",
    "updated_w = test_adam.layers[0].params[\"adam_fc_w\"]\n",
    "mt = opt_adam.mt[\"adam_fc_w\"]\n",
    "vt = opt_adam.vt[\"adam_fc_w\"]\n",
    "\n",
    "expected_updated_w = np.asarray([\n",
    "  [-0.40094747, -0.34836187, -0.29577703, -0.24319299, -0.19060977],\n",
    "  [-0.1380274,  -0.08544591, -0.03286534,  0.01971428,  0.0722929],\n",
    "  [ 0.1248705,   0.17744702,  0.23002243,  0.28259667,  0.33516969],\n",
    "  [ 0.38774145,  0.44031188,  0.49288093,  0.54544852,  0.59801459]])\n",
    "expected_v = np.asarray([\n",
    "  [ 0.69966,     0.68908382,  0.67851319,  0.66794809,  0.65738853,],\n",
    "  [ 0.64683452,  0.63628604,  0.6257431,   0.61520571,  0.60467385,],\n",
    "  [ 0.59414753,  0.58362676,  0.57311152,  0.56260183,  0.55209767,],\n",
    "  [ 0.54159906,  0.53110598,  0.52061845,  0.51013645,  0.49966,   ]])\n",
    "expected_m = np.asarray([\n",
    "  [ 0.48,        0.49947368,  0.51894737,  0.53842105,  0.55789474],\n",
    "  [ 0.57736842,  0.59684211,  0.61631579,  0.63578947,  0.65526316],\n",
    "  [ 0.67473684,  0.69421053,  0.71368421,  0.73315789,  0.75263158],\n",
    "  [ 0.77210526,  0.79157895,  0.81105263,  0.83052632,  0.85      ]])\n",
    "\n",
    "print 'updated_w error: ', rel_error(expected_updated_w, updated_w)\n",
    "print 'mt error: ', rel_error(expected_m, mt)\n",
    "print 'vt error: ', rel_error(expected_v, vt)"
   ]
  },
  {
   "cell_type": "markdown",
   "metadata": {},
   "source": [
    "## Comparing the optimizers\n",
    "Run the following code block to compare the plotted results among all the above optimizers"
   ]
  },
  {
   "cell_type": "code",
   "execution_count": null,
   "metadata": {
    "collapsed": false
   },
   "outputs": [],
   "source": [
    "model_rms      = FullyConnectedNetwork()\n",
    "model_adam     = FullyConnectedNetwork()\n",
    "loss_f_rms     = cross_entropy()\n",
    "loss_f_adam    = cross_entropy()\n",
    "optimizer_rms  = RMSProp(model_rms.net, 5e-4)\n",
    "optimizer_adam = Adam(model_adam.net, 5e-4)\n",
    "\n",
    "print \"Training with RMSProp...\"\n",
    "results_rms = train_net(small_data_dict, model_rms, loss_f_rms, optimizer_rms, batch_size=100, \n",
    "                        max_epochs=5, show_every=100, verbose=True)\n",
    "\n",
    "print \"\\nTraining with Adam...\"\n",
    "results_adam = train_net(small_data_dict, model_adam, loss_f_adam, optimizer_adam, batch_size=100, \n",
    "                         max_epochs=5, show_every=100, verbose=True)\n",
    "\n",
    "opt_params_rms,  loss_hist_rms,  train_acc_hist_rms,  val_acc_hist_rms  = results_rms\n",
    "opt_params_adam, loss_hist_adam, train_acc_hist_adam, val_acc_hist_adam = results_adam\n",
    "\n",
    "plt.subplot(3, 1, 1)\n",
    "plt.title('Training loss')\n",
    "plt.xlabel('Iteration')\n",
    "\n",
    "plt.subplot(3, 1, 2)\n",
    "plt.title('Training accuracy')\n",
    "plt.xlabel('Epoch')\n",
    "\n",
    "plt.subplot(3, 1, 3)\n",
    "plt.title('Validation accuracy')\n",
    "plt.xlabel('Epoch')\n",
    "\n",
    "plt.subplot(3, 1, 1)\n",
    "plt.plot(loss_hist_sgd, 'o', label=\"Vanilla SGD\")\n",
    "plt.subplot(3, 1, 2)\n",
    "plt.plot(train_acc_hist_sgd, '-o', label=\"Vanilla SGD\")\n",
    "plt.subplot(3, 1, 3)\n",
    "plt.plot(val_acc_hist_sgd, '-o', label=\"Vanilla SGD\")\n",
    "         \n",
    "plt.subplot(3, 1, 1)\n",
    "plt.plot(loss_hist_sgdm, 'o', label=\"SGD with Momentum\")\n",
    "plt.subplot(3, 1, 2)\n",
    "plt.plot(train_acc_hist_sgdm, '-o', label=\"SGD with Momentum\")\n",
    "plt.subplot(3, 1, 3)\n",
    "plt.plot(val_acc_hist_sgdm, '-o', label=\"SGD with Momentum\")\n",
    "\n",
    "plt.subplot(3, 1, 1)\n",
    "plt.plot(loss_hist_rms, 'o', label=\"RMSProp\")\n",
    "plt.subplot(3, 1, 2)\n",
    "plt.plot(train_acc_hist_rms, '-o', label=\"RMSProp\")\n",
    "plt.subplot(3, 1, 3)\n",
    "plt.plot(val_acc_hist_rms, '-o', label=\"RMSProp\")\n",
    "         \n",
    "plt.subplot(3, 1, 1)\n",
    "plt.plot(loss_hist_adam, 'o', label=\"Adam\")\n",
    "plt.subplot(3, 1, 2)\n",
    "plt.plot(train_acc_hist_adam, '-o', label=\"Adam\")\n",
    "plt.subplot(3, 1, 3)\n",
    "plt.plot(val_acc_hist_adam, '-o', label=\"Adam\")\n",
    "  \n",
    "for i in [1, 2, 3]:\n",
    "  plt.subplot(3, 1, i)\n",
    "  plt.legend(loc='upper center', ncol=4)\n",
    "plt.gcf().set_size_inches(15, 15)\n",
    "plt.show()"
   ]
  },
  {
   "cell_type": "markdown",
   "metadata": {},
   "source": [
    "## Training a Network with Dropout\n",
    "Run the following code blocks to compare the results with and without dropout"
   ]
  },
  {
   "cell_type": "code",
   "execution_count": null,
   "metadata": {
    "collapsed": false
   },
   "outputs": [],
   "source": [
    "# Train two identical nets, one with dropout and one without\n",
    "num_train = 500\n",
    "data_dict_500 = {\n",
    "    \"data_train\": (data[\"data_train\"][:num_train], data[\"labels_train\"][:num_train]),\n",
    "    \"data_val\": (data[\"data_val\"], data[\"labels_val\"]),\n",
    "    \"data_test\": (data[\"data_test\"], data[\"labels_test\"])\n",
    "}\n",
    "\n",
    "solvers = {}\n",
    "dropout_ps = [0, 0.25]  # you can try some dropout prob yourself\n",
    "\n",
    "results_dict = {}\n",
    "for dropout_p in dropout_ps:\n",
    "    results_dict[dropout_p] = {}\n",
    "\n",
    "for dropout_p in dropout_ps:\n",
    "    print \"Dropout =\", dropout_p\n",
    "    model = DropoutNetTest(dropout_p=dropout_p)\n",
    "    loss_f = cross_entropy()\n",
    "    optimizer = SGDM(model.net, 1e-4)\n",
    "    results = train_net(data_dict_500, model, loss_f, optimizer, batch_size=100, \n",
    "                        max_epochs=20, show_every=100, verbose=True)\n",
    "    opt_params, loss_hist, train_acc_hist, val_acc_hist = results\n",
    "    results_dict[dropout_p] = {\n",
    "        \"opt_params\": opt_params, \n",
    "        \"loss_hist\": loss_hist, \n",
    "        \"train_acc_hist\": train_acc_hist, \n",
    "        \"val_acc_hist\": val_acc_hist\n",
    "    }"
   ]
  },
  {
   "cell_type": "code",
   "execution_count": null,
   "metadata": {
    "collapsed": false
   },
   "outputs": [],
   "source": [
    "# Plot train and validation accuracies of the two models\n",
    "train_accs = []\n",
    "val_accs = []\n",
    "for dropout_p in dropout_ps:\n",
    "    curr_dict = results_dict[dropout_p]\n",
    "    train_accs.append(curr_dict[\"train_acc_hist\"][-1])\n",
    "    val_accs.append(curr_dict[\"val_acc_hist\"][-1])\n",
    "\n",
    "plt.subplot(3, 1, 1)\n",
    "for dropout_p in dropout_ps:\n",
    "    curr_dict = results_dict[dropout_p]\n",
    "    plt.plot(curr_dict[\"train_acc_hist\"], 'o', label='%.2f dropout' % dropout_p)\n",
    "plt.title('Train accuracy')\n",
    "plt.xlabel('Epoch')\n",
    "plt.ylabel('Accuracy')\n",
    "plt.legend(ncol=2, loc='lower right')\n",
    "  \n",
    "plt.subplot(3, 1, 2)\n",
    "for dropout_p in dropout_ps:\n",
    "    curr_dict = results_dict[dropout_p]\n",
    "    plt.plot(curr_dict[\"val_acc_hist\"], 'o', label='%.2f dropout' % dropout_p)\n",
    "plt.title('Val accuracy')\n",
    "plt.xlabel('Epoch')\n",
    "plt.ylabel('Accuracy')\n",
    "plt.legend(ncol=2, loc='lower right')\n",
    "\n",
    "plt.gcf().set_size_inches(15, 15)\n",
    "plt.show()"
   ]
  },
  {
   "cell_type": "markdown",
   "metadata": {},
   "source": [
    "### Inline Question: Describe what you observe from the above results and graphs\n",
    "#### Ans:"
   ]
  },
  {
   "cell_type": "markdown",
   "metadata": {},
   "source": [
    "## Plot the Activation Functions\n",
    "In each of the activation function, use the given lambda function template to plot their corresponding curves."
   ]
  },
  {
   "cell_type": "code",
   "execution_count": null,
   "metadata": {
    "collapsed": false,
    "scrolled": false
   },
   "outputs": [],
   "source": [
    "left, right = -10, 10\n",
    "X  = np.linspace(left, right, 100)\n",
    "XS = np.linspace(-5, 5, 10)\n",
    "lw = 4\n",
    "alpha = 0.1\n",
    "elu_alpha = 0.5\n",
    "selu_alpha = 1.6732\n",
    "selu_scale = 1.0507\n",
    "\n",
    "#########################\n",
    "####### YOUR CODE #######\n",
    "#########################\n",
    "sigmoid = lambda x: x\n",
    "leaky_relu = lambda x: x\n",
    "relu = lambda x: x\n",
    "elu = lambda x: x\n",
    "selu = lambda x: x\n",
    "tanh = lambda x: x\n",
    "#########################\n",
    "### END OF YOUR CODE ####\n",
    "#########################\n",
    "\n",
    "activations = {\n",
    "    \"Sigmoid\": sigmoid,\n",
    "    \"LeakyReLU\": leaky_relu,\n",
    "    \"ReLU\": relu,\n",
    "    \"ELU\": elu,\n",
    "    \"SeLU\": selu,\n",
    "    \"Tanh\": tanh\n",
    "}\n",
    "\n",
    "# Ground Truth activations\n",
    "GT_Act = {\n",
    "    \"Sigmoid\": [0.00669285092428, 0.0200575365379, 0.0585369028744, 0.158869104881, 0.364576440742, \n",
    "                0.635423559258, 0.841130895119, 0.941463097126, 0.979942463462, 0.993307149076],\n",
    "    \"LeakyReLU\": [-0.5, -0.388888888889, -0.277777777778, -0.166666666667, -0.0555555555556, \n",
    "                  0.555555555556, 1.66666666667, 2.77777777778, 3.88888888889, 5.0],\n",
    "    \"ReLU\": [-0.0, -0.0, -0.0, -0.0, -0.0, 0.555555555556, 1.66666666667, 2.77777777778, 3.88888888889, 5.0],\n",
    "    \"ELU\": [-0.4966310265, -0.489765962143, -0.468911737989, -0.405562198581, -0.213123289631, \n",
    "            0.555555555556, 1.66666666667, 2.77777777778, 3.88888888889, 5.0],\n",
    "    \"SeLU\": [-1.74618571868, -1.72204772347, -1.64872296837, -1.42598202974, -0.749354802287, \n",
    "             0.583722222222, 1.75116666667, 2.91861111111, 4.08605555556, 5.2535],\n",
    "    \"Tanh\": [-0.999909204263, -0.999162466631, -0.992297935288, -0.931109608668, -0.504672397722, \n",
    "             0.504672397722, 0.931109608668, 0.992297935288, 0.999162466631, 0.999909204263]\n",
    "} \n",
    "\n",
    "for label in activations:\n",
    "    fig = plt.figure(figsize=(4,4))\n",
    "    ax = fig.add_subplot(1, 1, 1)\n",
    "    ax.plot(X, activations[label](X), color='darkorchid', lw=lw, label=label)\n",
    "    assert rel_error(activations[label](XS), GT_Act[label]) < 1e-9, \\\n",
    "           \"Your implementation of {} might be wrong\".format(label)\n",
    "    ax.legend(loc=\"lower right\")\n",
    "    ax.axhline(0, color='black')\n",
    "    ax.axvline(0, color='black')\n",
    "    ax.set_title('{}'.format(label), fontsize=14)\n",
    "    plt.xlabel(r\"X\")\n",
    "    plt.ylabel(r\"Y\")\n",
    "    plt.show()"
   ]
  },
  {
   "cell_type": "markdown",
   "metadata": {
    "collapsed": true
   },
   "source": [
    "# Phew! You're done for problem 1 now, but 3 more to go... LOL"
   ]
  }
 ],
 "metadata": {
  "kernelspec": {
   "display_name": "Python 2",
   "language": "python",
   "name": "python2"
  },
  "language_info": {
   "codemirror_mode": {
    "name": "ipython",
    "version": 2
   },
   "file_extension": ".py",
   "mimetype": "text/x-python",
   "name": "python",
   "nbconvert_exporter": "python",
   "pygments_lexer": "ipython2",
   "version": "2.7.14"
  }
 },
 "nbformat": 4,
 "nbformat_minor": 1
}
